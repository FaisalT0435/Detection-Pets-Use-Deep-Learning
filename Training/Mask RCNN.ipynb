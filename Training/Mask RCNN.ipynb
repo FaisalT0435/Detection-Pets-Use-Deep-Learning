{
  "cells": [
    {
      "cell_type": "markdown",
      "metadata": {
        "id": "Wo42PzBjtp8U"
      },
      "source": [
        "**IMPORT LIBRARY**"
      ]
    },
    {
      "cell_type": "code",
      "execution_count": null,
      "metadata": {
        "id": "8zEVtL7QIn3g"
      },
      "outputs": [],
      "source": [
        "import os\n",
        "import cv2\n",
        "import numpy as np\n",
        "from pycocotools.coco import COCO\n",
        "from torch.utils.data import Dataset, DataLoader\n",
        "from albumentations.pytorch import ToTensorV2\n",
        "from tqdm import tqdm\n",
        "import matplotlib.pyplot as plt\n",
        "import math\n",
        "import numpy as np\n",
        "import albumentations as A\n",
        "import pandas as pd\n",
        "import torch\n",
        "from tqdm import tqdm\n",
        "from torchvision.models.detection import maskrcnn_resnet50_fpn\n",
        "from torchvision.models.detection.faster_rcnn import FastRCNNPredictor\n",
        "from torchvision import datasets, models\n",
        "from torchvision.utils import draw_bounding_boxes\n",
        "from torch.utils.data import DataLoader, ConcatDataset\n",
        "import matplotlib.pyplot as plt\n",
        "import numpy\n",
        "from sklearn import metrics\n",
        "from sklearn.metrics import classification_report\n",
        "\n",
        "\n"
      ]
    },
    {
      "cell_type": "code",
      "execution_count": null,
      "metadata": {
        "colab": {
          "base_uri": "https://localhost:8080/"
        },
        "id": "rpk26q-xH52P",
        "outputId": "4947d793-a406-4979-9744-6336a3e5f511"
      },
      "outputs": [
        {
          "name": "stdout",
          "output_type": "stream",
          "text": [
            "Looking in indexes: https://pypi.org/simple, https://us-python.pkg.dev/colab-wheels/public/simple/\n",
            "Requirement already satisfied: pycocotools in /usr/local/lib/python3.8/dist-packages (2.0.6)\n",
            "Requirement already satisfied: numpy in /usr/local/lib/python3.8/dist-packages (from pycocotools) (1.21.6)\n",
            "Requirement already satisfied: matplotlib>=2.1.0 in /usr/local/lib/python3.8/dist-packages (from pycocotools) (3.2.2)\n",
            "Requirement already satisfied: pyparsing!=2.0.4,!=2.1.2,!=2.1.6,>=2.0.1 in /usr/local/lib/python3.8/dist-packages (from matplotlib>=2.1.0->pycocotools) (3.0.9)\n",
            "Requirement already satisfied: python-dateutil>=2.1 in /usr/local/lib/python3.8/dist-packages (from matplotlib>=2.1.0->pycocotools) (2.8.2)\n",
            "Requirement already satisfied: kiwisolver>=1.0.1 in /usr/local/lib/python3.8/dist-packages (from matplotlib>=2.1.0->pycocotools) (1.4.4)\n",
            "Requirement already satisfied: cycler>=0.10 in /usr/local/lib/python3.8/dist-packages (from matplotlib>=2.1.0->pycocotools) (0.11.0)\n",
            "Requirement already satisfied: six>=1.5 in /usr/local/lib/python3.8/dist-packages (from python-dateutil>=2.1->matplotlib>=2.1.0->pycocotools) (1.15.0)\n",
            "Looking in indexes: https://pypi.org/simple, https://us-python.pkg.dev/colab-wheels/public/simple/\n",
            "Requirement already satisfied: gdown in /usr/local/lib/python3.8/dist-packages (4.4.0)\n",
            "Requirement already satisfied: requests[socks] in /usr/local/lib/python3.8/dist-packages (from gdown) (2.25.1)\n",
            "Requirement already satisfied: beautifulsoup4 in /usr/local/lib/python3.8/dist-packages (from gdown) (4.6.3)\n",
            "Requirement already satisfied: six in /usr/local/lib/python3.8/dist-packages (from gdown) (1.15.0)\n",
            "Requirement already satisfied: filelock in /usr/local/lib/python3.8/dist-packages (from gdown) (3.9.0)\n",
            "Requirement already satisfied: tqdm in /usr/local/lib/python3.8/dist-packages (from gdown) (4.64.1)\n",
            "Requirement already satisfied: chardet<5,>=3.0.2 in /usr/local/lib/python3.8/dist-packages (from requests[socks]->gdown) (4.0.0)\n",
            "Requirement already satisfied: certifi>=2017.4.17 in /usr/local/lib/python3.8/dist-packages (from requests[socks]->gdown) (2022.12.7)\n",
            "Requirement already satisfied: urllib3<1.27,>=1.21.1 in /usr/local/lib/python3.8/dist-packages (from requests[socks]->gdown) (1.24.3)\n",
            "Requirement already satisfied: idna<3,>=2.5 in /usr/local/lib/python3.8/dist-packages (from requests[socks]->gdown) (2.10)\n",
            "Requirement already satisfied: PySocks!=1.5.7,>=1.5.6 in /usr/local/lib/python3.8/dist-packages (from requests[socks]->gdown) (1.7.1)\n"
          ]
        }
      ],
      "source": [
        "!pip install pycocotools\n",
        "!pip install gdown"
      ]
    },
    {
      "cell_type": "markdown",
      "metadata": {
        "id": "NyBAbjq1twGM"
      },
      "source": [
        "MENGHUBUNGKAN KE GOOGLE DRIVE"
      ]
    },
    {
      "cell_type": "code",
      "execution_count": null,
      "metadata": {
        "colab": {
          "base_uri": "https://localhost:8080/"
        },
        "id": "F8iwJ4Siy_cF",
        "outputId": "65e885f4-d798-4fbe-af77-fdfa72b130d6"
      },
      "outputs": [
        {
          "name": "stdout",
          "output_type": "stream",
          "text": [
            "Mounted at /content/drive\n"
          ]
        }
      ],
      "source": [
        "from google.colab import drive\n",
        "drive.mount('/content/drive')"
      ]
    },
    {
      "cell_type": "code",
      "execution_count": null,
      "metadata": {
        "id": "wHh3uCVhH_7h"
      },
      "outputs": [],
      "source": [
        "os.chdir('/content/drive/MyDrive/Mask_RCNN/Dataset')"
      ]
    },
    {
      "cell_type": "code",
      "execution_count": null,
      "metadata": {
        "colab": {
          "base_uri": "https://localhost:8080/"
        },
        "id": "c9W2e91TeMt4",
        "outputId": "ef63519c-427b-42a5-e52c-2c0ec3ecfd3b"
      },
      "outputs": [
        {
          "name": "stdout",
          "output_type": "stream",
          "text": [
            "/content/drive/.shortcut-targets-by-id/1Qkzrv5ICHEwHA89LN6xQS4alzi6bZysW/Mask_RCNN/Dataset\n"
          ]
        }
      ],
      "source": [
        "!pwd"
      ]
    },
    {
      "cell_type": "markdown",
      "metadata": {
        "id": "Ym_S_qfouC2I"
      },
      "source": [
        "**MENGAKTIFKAN MODEL SAVE**"
      ]
    },
    {
      "cell_type": "code",
      "execution_count": null,
      "metadata": {
        "id": "Y9brMriGIZBo"
      },
      "outputs": [],
      "source": [
        "CHECKPOINT_FILE = \"1152KaggleBest.pth.tar\"\n",
        "PIN_MEMORY = True\n",
        "SAVE_MODEL = True"
      ]
    },
    {
      "cell_type": "code",
      "execution_count": null,
      "metadata": {
        "id": "-Afqe8VetA-n"
      },
      "outputs": [],
      "source": [
        "TRAIN_DIR = 'train'\n",
        "VALID_DIR = 'valid'\n",
        "IMAGE_SIZE = [416,416]\n",
        "DEVICE = \"cuda\" if torch.cuda.is_available() else \"cpu\"\n"
      ]
    },
    {
      "cell_type": "markdown",
      "metadata": {
        "id": "sorsA5oWuMGz"
      },
      "source": [
        "**MEMBUAT FUNGSI AUGMENTASI**"
      ]
    },
    {
      "cell_type": "code",
      "execution_count": null,
      "metadata": {
        "id": "y16ITsckJL3p"
      },
      "outputs": [],
      "source": [
        "transform = A.Compose([\n",
        "    A.Resize(600,600),\n",
        "    A.HorizontalFlip(p=0.5),\n",
        "    A.VerticalFlip(p=0.5),\n",
        "    A.RandomBrightnessContrast(\n",
        "        contrast_limit=0.2, brightness_limit=0.3, p=0.5),\n",
        "    A.OneOf([\n",
        "        A.ImageCompression(p=0.8),\n",
        "        A.RandomGamma(p=0.8),\n",
        "        A.Blur(p=0.8),\n",
        "        A.Equalize(mode='cv',p=0.8)\n",
        "    ], p=1.0),\n",
        "    A.OneOf([\n",
        "        A.ImageCompression(p=0.8),\n",
        "        A.RandomGamma(p=0.8),\n",
        "        A.Blur(p=0.8),\n",
        "        A.Equalize(mode='cv',p=0.8),\n",
        "    ], p=1.0)\n",
        "])"
      ]
    },
    {
      "cell_type": "markdown",
      "metadata": {
        "id": "Og0kXr7OuRue"
      },
      "source": [
        "**MEMBUAT FUNGSI UNTUK MENGGABUNGKAN ANNOTASI BOX DAN GAMBAR**"
      ]
    },
    {
      "cell_type": "code",
      "execution_count": null,
      "metadata": {
        "id": "O1hvuunwIrx6"
      },
      "outputs": [],
      "source": [
        "class CCDataset(Dataset):\n",
        "  def __init__(self, mode = 'train', augmentation=None):\n",
        "    if mode == 'train':\n",
        "      self.dataset_path = TRAIN_DIR\n",
        "      ann_path = os.path.join(TRAIN_DIR, '_annotations.coco.json')\n",
        "    if mode == 'valid':\n",
        "      self.dataset_path = VALID_DIR\n",
        "      ann_path = os.path.join(VALID_DIR, '_annotations.coco.json')\n",
        "    \n",
        "    self.coco = COCO(ann_path)\n",
        "    self.cat_ids = self.coco.getCatIds()\n",
        "    self.augmentation=augmentation\n",
        "\n",
        "  def __len__(self):\n",
        "      return len(self.coco.imgs)\n",
        "  \n",
        "  def get_masks(self, index):\n",
        "      ann_ids = self.coco.getAnnIds([index])\n",
        "      anns = self.coco.loadAnns(ann_ids)\n",
        "      masks=[]\n",
        "\n",
        "      for ann in anns:\n",
        "            mask = self.coco.annToMask(ann)\n",
        "            masks.append(mask)\n",
        "\n",
        "      return masks\n",
        "\n",
        "  def get_boxes(self, masks):\n",
        "      num_objs = len(masks)\n",
        "      boxes = []\n",
        "\n",
        "      for i in range(num_objs):\n",
        "          x,y,w,h = cv2.boundingRect(masks[i])\n",
        "          boxes.append([x, y, x+w, y+h])\n",
        "\n",
        "      return np.array(boxes)\n",
        "\n",
        "  def __getitem__(self, index):\n",
        "      # Load image\n",
        "      img_info = self.coco.loadImgs([index])[0]\n",
        "      image = cv2.imread(os.path.join(self.dataset_path,\n",
        "                                    img_info['file_name']))\n",
        "      masks = self.get_masks(index)\n",
        "\n",
        "      if self.augmentation:\n",
        "        augmented = self.augmentation(image=image, masks=masks)\n",
        "        image, masks = augmented['image'], augmented['masks']\n",
        "\n",
        "      image = image.transpose(2,0,1) / 255.\n",
        "\n",
        "      # Load masks\n",
        "      masks = np.array(masks)\n",
        "      boxes = self.get_boxes(masks)\n",
        "\n",
        "      # Create target dict\n",
        "      num_objs = len(masks)\n",
        "      boxes = torch.as_tensor(boxes, dtype=torch.float32)\n",
        "      labels = torch.ones((num_objs,), dtype=torch.int64)\n",
        "      masks = torch.as_tensor(masks, dtype=torch.uint8)\n",
        "      image = torch.as_tensor(image, dtype=torch.float32)\n",
        "      data = {}\n",
        "      data[\"boxes\"] =  boxes\n",
        "      data[\"labels\"] = labels\n",
        "      data[\"masks\"] = masks\n",
        "\n",
        "      return image, data"
      ]
    },
    {
      "cell_type": "code",
      "execution_count": null,
      "metadata": {
        "id": "ORQe6btAJH8d"
      },
      "outputs": [],
      "source": [
        "def collate_fn(batch):\n",
        "  images = list()\n",
        "  targets = list()\n",
        "  for b in batch:\n",
        "        images.append(b[0])\n",
        "        targets.append(b[1])\n",
        "  images = torch.stack(images, dim=0)\n",
        "  return images, targets"
      ]
    },
    {
      "cell_type": "markdown",
      "metadata": {
        "id": "s9ao-mDnug9Q"
      },
      "source": [
        "**MEMANGGIL DATA TRAIN DAN DATA VALIDASI**"
      ]
    },
    {
      "cell_type": "code",
      "execution_count": null,
      "metadata": {
        "colab": {
          "base_uri": "https://localhost:8080/"
        },
        "id": "z8bYhKTAygSy",
        "outputId": "7d736e85-e4ce-435a-8669-15269964fff7"
      },
      "outputs": [
        {
          "name": "stdout",
          "output_type": "stream",
          "text": [
            "loading annotations into memory...\n",
            "Done (t=0.01s)\n",
            "creating index...\n",
            "index created!\n",
            "loading annotations into memory...\n",
            "Done (t=0.01s)\n",
            "creating index...\n",
            "index created!\n"
          ]
        }
      ],
      "source": [
        "# MEMANGGIL  DATA TRAIN AUGMENTASI\n",
        "train_dataset = CCDataset(mode='train', augmentation=transform)\n",
        "# MEMANGGIL  DATA TRAIN TIDAK AUGMENTASI\n",
        "train_dataset_no_augmentasi = CCDataset(mode='train',augmentation=None)\n",
        "# MEMANGGIL DATA VALIDASI AUGMENTASI\n",
        "valid_dataset = CCDataset(mode='valid', augmentation=transform)"
      ]
    },
    {
      "cell_type": "code",
      "execution_count": null,
      "metadata": {
        "id": "61RAe5H5kwiC"
      },
      "outputs": [],
      "source": [
        "# MENGHITUNG JUMLAH KELAS DARI DATA TRAIN\n",
        "coco = COCO(os.path.join( \"train\", \"_annotations.coco.json\"))\n",
        "categories = coco.cats\n",
        "n_classes = len(categories.keys())\n",
        "categories"
      ]
    },
    {
      "cell_type": "code",
      "execution_count": null,
      "metadata": {
        "id": "OMa2tnLBxSHQ"
      },
      "outputs": [],
      "source": [
        "#  MEMANGGIL NAMA LABEL\n",
        "classes = [i[1]['name'] for i in categories.items()]\n",
        "classes"
      ]
    },
    {
      "cell_type": "code",
      "execution_count": null,
      "metadata": {
        "colab": {
          "base_uri": "https://localhost:8080/"
        },
        "id": "egs9fQAmxULh",
        "outputId": "5e2bc660-ecb0-4318-d199-1e027aadf97c"
      },
      "outputs": [
        {
          "data": {
            "text/plain": [
              "['Pest', 'Grashooper', 'Healty', 'Armyworm', 'Leafhoppers']"
            ]
          },
          "execution_count": 17,
          "metadata": {},
          "output_type": "execute_result"
        }
      ],
      "source": [
        "#  MERUBAH NAMA LABEL KE DALAM BAHASA INGGRIS \n",
        "lbels = []\n",
        "for i in range(len(classes)):\n",
        "  if (i == 0):\n",
        "    lbels.append(\"Pest\")\n",
        "  elif (i == 1):\n",
        "    lbels.append(\"Grashooper\")\n",
        "  elif (i == 2):\n",
        "    lbels.append(\"Healty\")\n",
        "  elif (i == 3):\n",
        "    lbels.append(\"Armyworm\")\n",
        "  elif (i == 4):\n",
        "    lbels.append(\"Leafhoppers\")\n",
        "\n",
        "\n",
        "lbels\n",
        "  "
      ]
    },
    {
      "cell_type": "markdown",
      "metadata": {
        "id": "Htgw5aU6vND0"
      },
      "source": [
        "**CONTOH GAMBAR DARI DATA TRAIN**"
      ]
    },
    {
      "cell_type": "code",
      "execution_count": null,
      "metadata": {
        "colab": {
          "base_uri": "https://localhost:8080/",
          "height": 341
        },
        "id": "Ug_Js7q4yXfN",
        "outputId": "b30943e4-d039-46a5-e4a5-ec1e6004c7eb"
      },
      "outputs": [
        {
          "name": "stderr",
          "output_type": "stream",
          "text": [
            "<ipython-input-40-db068214bb21>:2: UserWarning: To copy construct from a tensor, it is recommended to use sourceTensor.clone().detach() or sourceTensor.clone().detach().requires_grad_(True), rather than torch.tensor(sourceTensor).\n",
            "  img_int = torch.tensor(sample[0] * 255, dtype=torch.uint8)\n"
          ]
        },
        {
          "data": {
            "text/plain": [
              "<matplotlib.image.AxesImage at 0x7f6040141ac0>"
            ]
          },
          "execution_count": 40,
          "metadata": {},
          "output_type": "execute_result"
        },
        {
          "data": {
            "image/png": "[encoded data removed]",
            "text/plain": [
              "<Figure size 432x288 with 1 Axes>"
            ]
          },
          "metadata": {
            "needs_background": "light"
          },
          "output_type": "display_data"
        }
      ],
      "source": [
        "# GAMBAR YANG SUDAH DIAUGMENTASI\n",
        "sample = train_dataset[79]\n",
        "img_int = torch.tensor(sample[0] * 255, dtype=torch.uint8)\n",
        "plt.imshow(draw_bounding_boxes(\n",
        "    img_int, sample[1]['boxes'], [lbels[i] for i in sample[1]['labels']], width=4\n",
        ").permute(1, 2, 0))"
      ]
    },
    {
      "cell_type": "code",
      "execution_count": null,
      "metadata": {
        "colab": {
          "base_uri": "https://localhost:8080/",
          "height": 341
        },
        "id": "dWTDhzzZzMK9",
        "outputId": "cb894147-5b52-4a28-8566-4a74e5b7e144"
      },
      "outputs": [
        {
          "name": "stderr",
          "output_type": "stream",
          "text": [
            "<ipython-input-31-3b2f2f2e2f26>:2: UserWarning: To copy construct from a tensor, it is recommended to use sourceTensor.clone().detach() or sourceTensor.clone().detach().requires_grad_(True), rather than torch.tensor(sourceTensor).\n",
            "  img_int = torch.tensor(noAug[0] * 255, dtype=torch.uint8)\n"
          ]
        },
        {
          "data": {
            "text/plain": [
              "<matplotlib.image.AxesImage at 0x7f60404b0be0>"
            ]
          },
          "execution_count": 31,
          "metadata": {},
          "output_type": "execute_result"
        },
        {
          "data": {
            "image/png": "[encoded data removed]",
            "text/plain": [
              "<Figure size 432x288 with 1 Axes>"
            ]
          },
          "metadata": {
            "needs_background": "light"
          },
          "output_type": "display_data"
        }
      ],
      "source": [
        "# GAMABAR YANG BELUM DI AUGMENTASI\n",
        "noAug = train_dataset_no_augmentasi[79]\n",
        "img_int = torch.tensor(noAug[0] * 255, dtype=torch.uint8)\n",
        "plt.imshow(draw_bounding_boxes(\n",
        "    img_int, noAug[1]['boxes'], [lbels[i] for i in noAug[1]['labels']], width=4\n",
        ").permute(1, 2, 0))"
      ]
    },
    {
      "cell_type": "markdown",
      "metadata": {
        "id": "Bhg-cY2owUGp"
      },
      "source": [
        "MEMANGGIL TRUE LABEL "
      ]
    },
    {
      "cell_type": "code",
      "execution_count": null,
      "metadata": {
        "id": "3OuYXBGZvpDD"
      },
      "outputs": [],
      "source": [
        "labels = pd.read_csv('/content/drive/MyDrive/Ta/Dataset/valid/_classes.csv', sep=',')\n",
        "\n"
      ]
    },
    {
      "cell_type": "code",
      "execution_count": null,
      "metadata": {
        "id": "7HgzKqHdTm4o"
      },
      "outputs": [],
      "source": [
        "test_labels = labels.apply(get_label, axis=1)"
      ]
    },
    {
      "cell_type": "code",
      "execution_count": null,
      "metadata": {
        "id": "mYzMrZxxv_sE"
      },
      "outputs": [],
      "source": [
        "def get_label(row):\n",
        "  for c in labels.columns:\n",
        "    if row[c]==1:\n",
        "      return c"
      ]
    },
    {
      "cell_type": "markdown",
      "metadata": {
        "id": "Z6yIyR6Ovguq"
      },
      "source": [
        "**MEMANGGIL MODEL**"
      ]
    },
    {
      "cell_type": "code",
      "execution_count": null,
      "metadata": {
        "id": "LsC0GJBZJP4w"
      },
      "outputs": [],
      "source": [
        "def get_model():\n",
        "    model = maskrcnn_resnet50_fpn(pretrained=True)\n",
        "    in_features = model.roi_heads.box_predictor.cls_score.in_features\n",
        "    model.roi_heads.box_predictor = FastRCNNPredictor(\n",
        "            in_features, num_classes=n_classes)\n",
        "    model.to(DEVICE)\n",
        "    \n",
        "    return model"
      ]
    },
    {
      "cell_type": "markdown",
      "metadata": {
        "id": "GN_rANutvnW1"
      },
      "source": [
        "MEMBUAT FUNGSI SAVE MODEL"
      ]
    },
    {
      "cell_type": "code",
      "execution_count": null,
      "metadata": {
        "id": "9q-PZWviJRh2"
      },
      "outputs": [],
      "source": [
        "def save_checkpoint(state, filename=\"mask_rcnn.pth.tar\"):\n",
        "    print(\"=> Saving checkpoint\")\n",
        "    torch.save(state, filename)"
      ]
    },
    {
      "cell_type": "markdown",
      "metadata": {
        "id": "T_QPzWwCvvAO"
      },
      "source": [
        "MEMBUAT FUNGSI TRAIN"
      ]
    },
    {
      "cell_type": "code",
      "execution_count": null,
      "metadata": {
        "id": "pYkZt8xWPTcQ"
      },
      "outputs": [],
      "source": [
        "def train_one_epoch(loader, model, optimizer, device):\n",
        "    loop = tqdm(loader)\n",
        "\n",
        "    all_losses = []\n",
        "    all_losses_dict = []\n",
        "    lr_scheduler = None\n",
        "    if epoch == 0:\n",
        "        warmup_factor = 1.0 / 1000\n",
        "        warmup_iters = min(1000, len(loader) - 1)\n",
        "\n",
        "        lr_scheduler = torch.optim.lr_scheduler.LinearLR(\n",
        "            optimizer, start_factor=warmup_factor, total_iters=warmup_iters\n",
        "        )\n",
        "    for batch_idx, (images, targets) in  enumerate(loop):\n",
        "        images = list(image.to(device) for image in images)\n",
        "        targets = [{k: v.to(device) for k, v in t.items()} for t in targets]\n",
        "        \n",
        "        loss_dict = model(images, targets)\n",
        "        losses = sum(loss for loss in loss_dict.values())\n",
        "        loss_dict_append = {k: v.item() for k, v in loss_dict.items()}\n",
        "        loss_value = losses.item()\n",
        "          \n",
        "        all_losses.append(loss_value)\n",
        "        all_losses_dict.append(loss_dict_append)\n",
        "          \n",
        "        if not math.isfinite(loss_value):\n",
        "            print(f\"Loss is {loss_value}, stopping trainig\") # train if loss becomes infinity\n",
        "            print(loss_dict)\n",
        "            sys.exit(1)\n",
        "\n",
        "\n",
        "        optimizer.zero_grad()\n",
        "        losses.backward()\n",
        "        optimizer.step()\n",
        "\n",
        "    \n",
        "    return(np.mean(all_losses))\n",
        "    all_losses_dict = pd.DataFrame(all_losses_dict) # for printing\n",
        "    print(\"Epoch {}, lr: {:.6f}, loss: {:.6f}, loss_classifier: {:.6f}, loss_box: {:.6f}, loss_rpn_box: {:.6f}, loss_object: {:.6f}\".format(\n",
        "        epoch, optimizer.param_groups[0]['lr'], np.mean(all_losses),\n",
        "        all_losses_dict['loss_classifier'].mean(),\n",
        "        all_losses_dict['loss_box_reg'].mean(),\n",
        "        all_losses_dict['loss_rpn_box_reg'].mean(),\n",
        "        all_losses_dict['loss_objectness'].mean()\n",
        "    ))\n",
        "    \n",
        "    best_vloss = np.inf\n",
        "def validate(loader, model, optimizer, device, epoch):\n",
        "    global best_vloss\n",
        "    loop = tqdm(loader)\n",
        "    running_vloss = 0\n",
        "    for batch_idx, (images, targets) in enumerate(loop):\n",
        "        images = list(image.to(device) for image in images)\n",
        "        targets = [{k: v.to(device) for k, v in t.items()} for t in targets]\n",
        "        \n",
        "        with torch.no_grad():\n",
        "          loss_dict = model(images, targets)\n",
        "        \n",
        "        losses = sum(loss for loss in loss_dict.values())\n",
        "        running_vloss += losses\n",
        "        \n",
        "    avg_vloss = running_vloss / (batch_idx + 1)\n",
        "    \n",
        "    print(f\"Avg Valid Loss: {avg_vloss}\")\n",
        "    if avg_vloss < best_vloss:\n",
        "      best_vloss = avg_vloss\n",
        "      if SAVE_MODEL:\n",
        "            print(\"Model improved, saving...\")\n",
        "            checkpoint = {\n",
        "                \"state_dict\": model.state_dict(),\n",
        "                \"optimizer\": optimizer.state_dict(),\n",
        "            }\n",
        "            save_checkpoint(checkpoint, filename=f\"1152KaggleBest_second_{epoch}.pth.tar\")\n",
        "    print('\\n')\n",
        "    return avg_vloss"
      ]
    },
    {
      "cell_type": "markdown",
      "metadata": {
        "id": "istduiKGwlfT"
      },
      "source": [
        "MEMBUAT FUNGSI PREDIKSI"
      ]
    },
    {
      "cell_type": "code",
      "execution_count": null,
      "metadata": {
        "id": "1zaHBYr0wFEq"
      },
      "outputs": [],
      "source": [
        "def predict_single_frame(frame):\n",
        "    images = cv2.resize(frame, IMAGE_SIZE, cv2.INTER_LINEAR)/255\n",
        "    images = torch.as_tensor(images, dtype=torch.float32).unsqueeze(0)\n",
        "    images = images.swapaxes(1, 3).swapaxes(2, 3)\n",
        "    images = list(image.to(DEVICE) for image in images)\n",
        "    \n",
        "    with torch.no_grad():\n",
        "      pred = model(images)\n",
        "    \n",
        "    # print(pred)\n",
        "    \n",
        "    im = images[0].swapaxes(0, 2).swapaxes(0, 1).detach().cpu().numpy().astype(np.float32)\n",
        "    im2 = np.zeros_like(im).astype(np.float32)\n",
        "    for i in range(len(pred[0]['masks'])):\n",
        "        msk=pred[0]['masks'][i,0].detach().cpu().numpy()\n",
        "        scr=pred[0]['scores'][i].detach().cpu().numpy()\n",
        "        box=pred[0]['boxes'][i].detach().cpu().numpy()\n",
        "        lbl=pred[0]['labels'][i].detach().cpu().numpy()\n",
        "        \n",
        "        if (lbl == 1):\n",
        "          x = \" Belalang\"\n",
        "        elif  (lbl == 2):\n",
        "          x = \" Sehat\"\n",
        "        elif  (lbl == 3):\n",
        "          x = \" Ulat\"\n",
        "        elif  (lbl == 4):\n",
        "          x = \" Wereng\"\n",
        "        # print(x)\n",
        "        if scr>0.8 :\n",
        "            cv2.rectangle(im, (int(box[0]), int(box[1])), (int(box[2]), int(box[3])), (0,0,1), 2)\n",
        "            cv2.putText(im, \"{0:.2f}%\".format(scr*100), (int(box[0]+10), int(box[1])+40), cv2.FONT_HERSHEY_SIMPLEX,\n",
        "                        0.5, (0,0,1), 2, cv2.LINE_AA)\n",
        "            cv2.putText(im, x , (int(box[0]+4), int(box[1])+15), cv2.FONT_HERSHEY_SIMPLEX,\n",
        "                        0.5, (0,0,1), 2, cv2.LINE_AA)\n",
        "            im2[:,:,0][msk>0.87] = np.random.uniform(0,1)\n",
        "            im2[:, :, 1][msk > 0.87] = np.random.uniform(0,1)\n",
        "            im2[:, :, 2][msk > 0.87] = np.random.uniform(0,1)\n",
        "            \n",
        "\n",
        "    return (cv2.addWeighted(im, 0.8, im2, 0.2,0)*255).astype(np.uint8), x"
      ]
    },
    {
      "cell_type": "markdown",
      "metadata": {
        "id": "tAZH3V63ws1y"
      },
      "source": [
        "MENJALANKAN TRAINING 5-KFOLD"
      ]
    },
    {
      "cell_type": "code",
      "execution_count": null,
      "metadata": {
        "colab": {
          "base_uri": "https://localhost:8080/",
          "height": 1000,
          "referenced_widgets": [
            "6ade56794e524c0a81c3db119db93959",
            "1c4c8993f98d4485ab542aec8e9beef1",
            "1410f0896ee848c39aa82b62bb2b983a",
            "2237eadb6cad49c2a3ac7f8ee37eb119",
            "84916205d702430bbe5f31349fbea7ba",
            "559e7a67d5f543b982ac5e4dfbf84629",
            "965d716b285548639c21399aa5f08523",
            "76158185f4e648e48641d0ac8a724f1b",
            "59d0dbec26524d8e97e3380c28c43c49",
            "cb6858f4b73e4d94b2871a5758e74470",
            "eec47aa0cd824b0eaa2143ee022ade22"
          ]
        },
        "id": "SxNmiI5VJaAN",
        "outputId": "3b86fa88-d663-46b4-a24e-ef1e6b18b0f3"
      },
      "outputs": [
        {
          "name": "stdout",
          "output_type": "stream",
          "text": [
            "loading annotations into memory...\n",
            "Done (t=0.01s)\n",
            "creating index...\n",
            "index created!\n",
            "loading annotations into memory...\n",
            "Done (t=0.69s)\n",
            "creating index...\n",
            "index created!\n",
            "FOLD 0\n",
            "--------------------------------\n"
          ]
        },
        {
          "name": "stderr",
          "output_type": "stream",
          "text": [
            "/usr/local/lib/python3.8/dist-packages/torch/utils/data/dataloader.py:554: UserWarning: This DataLoader will create 4 worker processes in total. Our suggested max number of worker in current system is 2, which is smaller than what this DataLoader is going to create. Please be aware that excessive worker creation might get DataLoader running slow or even freeze, lower the worker number to avoid potential slowness/freeze if necessary.\n",
            "  warnings.warn(_create_warning_msg(\n",
            "/usr/local/lib/python3.8/dist-packages/torchvision/models/_utils.py:208: UserWarning: The parameter 'pretrained' is deprecated since 0.13 and may be removed in the future, please use 'weights' instead.\n",
            "  warnings.warn(\n",
            "/usr/local/lib/python3.8/dist-packages/torchvision/models/_utils.py:223: UserWarning: Arguments other than a weight enum or `None` for 'weights' are deprecated since 0.13 and may be removed in the future. The current behavior is equivalent to passing `weights=MaskRCNN_ResNet50_FPN_Weights.COCO_V1`. You can also use `weights=MaskRCNN_ResNet50_FPN_Weights.DEFAULT` to get the most up-to-date weights.\n",
            "  warnings.warn(msg)\n",
            "Downloading: \"https://download.pytorch.org/models/maskrcnn_resnet50_fpn_coco-bf2d0c1e.pth\" to /root/.cache/torch/hub/checkpoints/maskrcnn_resnet50_fpn_coco-bf2d0c1e.pth\n"
          ]
        },
        {
          "data": {
            "application/vnd.jupyter.widget-view+json": {
              "model_id": "6ade56794e524c0a81c3db119db93959",
              "version_major": 2,
              "version_minor": 0
            },
            "text/plain": [
              "  0%|          | 0.00/170M [00:00<?, ?B/s]"
            ]
          },
          "metadata": {},
          "output_type": "display_data"
        },
        {
          "name": "stdout",
          "output_type": "stream",
          "text": [
            "Epoch: 0\n"
          ]
        },
        {
          "name": "stderr",
          "output_type": "stream",
          "text": [
            "100%|██████████| 60/60 [01:01<00:00,  1.02s/it]\n",
            "100%|██████████| 15/15 [00:41<00:00,  2.77s/it]\n"
          ]
        },
        {
          "name": "stdout",
          "output_type": "stream",
          "text": [
            "Avg Valid Loss: 1.6953519582748413\n",
            "\n",
            "\n",
            "Epoch: 1\n"
          ]
        },
        {
          "name": "stderr",
          "output_type": "stream",
          "text": [
            "100%|██████████| 60/60 [00:52<00:00,  1.14it/s]\n",
            "100%|██████████| 15/15 [00:06<00:00,  2.22it/s]\n"
          ]
        },
        {
          "name": "stdout",
          "output_type": "stream",
          "text": [
            "Avg Valid Loss: 1.4037196636199951\n",
            "\n",
            "\n",
            "Epoch: 2\n"
          ]
        },
        {
          "name": "stderr",
          "output_type": "stream",
          "text": [
            "100%|██████████| 60/60 [00:52<00:00,  1.14it/s]\n",
            "100%|██████████| 15/15 [00:06<00:00,  2.20it/s]\n"
          ]
        },
        {
          "name": "stdout",
          "output_type": "stream",
          "text": [
            "Avg Valid Loss: 1.301886796951294\n",
            "\n",
            "\n",
            "Epoch: 3\n"
          ]
        },
        {
          "name": "stderr",
          "output_type": "stream",
          "text": [
            "100%|██████████| 60/60 [00:52<00:00,  1.15it/s]\n",
            "100%|██████████| 15/15 [00:06<00:00,  2.22it/s]\n"
          ]
        },
        {
          "name": "stdout",
          "output_type": "stream",
          "text": [
            "Avg Valid Loss: 1.230594515800476\n",
            "\n",
            "\n",
            "Epoch: 4\n"
          ]
        },
        {
          "name": "stderr",
          "output_type": "stream",
          "text": [
            "100%|██████████| 60/60 [00:52<00:00,  1.14it/s]\n",
            "100%|██████████| 15/15 [00:06<00:00,  2.21it/s]\n"
          ]
        },
        {
          "name": "stdout",
          "output_type": "stream",
          "text": [
            "Avg Valid Loss: 1.2134209871292114\n",
            "\n",
            "\n",
            "Epoch: 5\n"
          ]
        },
        {
          "name": "stderr",
          "output_type": "stream",
          "text": [
            "100%|██████████| 60/60 [00:52<00:00,  1.14it/s]\n",
            "100%|██████████| 15/15 [00:06<00:00,  2.18it/s]\n"
          ]
        },
        {
          "name": "stdout",
          "output_type": "stream",
          "text": [
            "Avg Valid Loss: 1.1555688381195068\n",
            "\n",
            "\n",
            "Epoch: 6\n"
          ]
        },
        {
          "name": "stderr",
          "output_type": "stream",
          "text": [
            "100%|██████████| 60/60 [00:52<00:00,  1.14it/s]\n",
            "100%|██████████| 15/15 [00:06<00:00,  2.21it/s]\n"
          ]
        },
        {
          "name": "stdout",
          "output_type": "stream",
          "text": [
            "Avg Valid Loss: 1.1416834592819214\n",
            "\n",
            "\n",
            "Epoch: 7\n"
          ]
        },
        {
          "name": "stderr",
          "output_type": "stream",
          "text": [
            "100%|██████████| 60/60 [00:52<00:00,  1.14it/s]\n",
            "100%|██████████| 15/15 [00:06<00:00,  2.22it/s]\n"
          ]
        },
        {
          "name": "stdout",
          "output_type": "stream",
          "text": [
            "Avg Valid Loss: 1.124921202659607\n",
            "\n",
            "\n",
            "Epoch: 8\n"
          ]
        },
        {
          "name": "stderr",
          "output_type": "stream",
          "text": [
            "100%|██████████| 60/60 [00:52<00:00,  1.15it/s]\n",
            "100%|██████████| 15/15 [00:06<00:00,  2.26it/s]\n"
          ]
        },
        {
          "name": "stdout",
          "output_type": "stream",
          "text": [
            "Avg Valid Loss: 1.1136127710342407\n",
            "\n",
            "\n",
            "Epoch: 9\n"
          ]
        },
        {
          "name": "stderr",
          "output_type": "stream",
          "text": [
            "100%|██████████| 60/60 [00:52<00:00,  1.14it/s]\n",
            "100%|██████████| 15/15 [00:06<00:00,  2.22it/s]\n"
          ]
        },
        {
          "name": "stdout",
          "output_type": "stream",
          "text": [
            "Avg Valid Loss: 1.1054471731185913\n",
            "\n",
            "\n",
            "Epoch: 10\n"
          ]
        },
        {
          "name": "stderr",
          "output_type": "stream",
          "text": [
            "100%|██████████| 60/60 [00:52<00:00,  1.14it/s]\n",
            "100%|██████████| 15/15 [00:06<00:00,  2.24it/s]\n"
          ]
        },
        {
          "name": "stdout",
          "output_type": "stream",
          "text": [
            "Avg Valid Loss: 1.0681594610214233\n",
            "\n",
            "\n",
            "Epoch: 11\n"
          ]
        },
        {
          "name": "stderr",
          "output_type": "stream",
          "text": [
            "100%|██████████| 60/60 [00:52<00:00,  1.14it/s]\n",
            "100%|██████████| 15/15 [00:06<00:00,  2.25it/s]\n"
          ]
        },
        {
          "name": "stdout",
          "output_type": "stream",
          "text": [
            "Avg Valid Loss: 1.0574345588684082\n",
            "\n",
            "\n",
            "Epoch: 12\n"
          ]
        },
        {
          "name": "stderr",
          "output_type": "stream",
          "text": [
            "100%|██████████| 60/60 [00:52<00:00,  1.14it/s]\n",
            "100%|██████████| 15/15 [00:06<00:00,  2.22it/s]\n"
          ]
        },
        {
          "name": "stdout",
          "output_type": "stream",
          "text": [
            "Avg Valid Loss: 1.0465517044067383\n",
            "\n",
            "\n",
            "Epoch: 13\n"
          ]
        },
        {
          "name": "stderr",
          "output_type": "stream",
          "text": [
            "100%|██████████| 60/60 [00:52<00:00,  1.14it/s]\n",
            "100%|██████████| 15/15 [00:07<00:00,  2.10it/s]\n"
          ]
        },
        {
          "name": "stdout",
          "output_type": "stream",
          "text": [
            "Avg Valid Loss: 1.0279545783996582\n",
            "\n",
            "\n",
            "Epoch: 14\n"
          ]
        },
        {
          "name": "stderr",
          "output_type": "stream",
          "text": [
            "100%|██████████| 60/60 [00:52<00:00,  1.14it/s]\n",
            "100%|██████████| 15/15 [00:06<00:00,  2.20it/s]\n"
          ]
        },
        {
          "name": "stdout",
          "output_type": "stream",
          "text": [
            "Avg Valid Loss: 1.0055853128433228\n",
            "\n",
            "\n",
            "Epoch: 15\n"
          ]
        },
        {
          "name": "stderr",
          "output_type": "stream",
          "text": [
            "100%|██████████| 60/60 [00:52<00:00,  1.14it/s]\n",
            "100%|██████████| 15/15 [00:06<00:00,  2.17it/s]\n"
          ]
        },
        {
          "name": "stdout",
          "output_type": "stream",
          "text": [
            "Avg Valid Loss: 1.00735604763031\n",
            "\n",
            "\n",
            "Epoch: 16\n"
          ]
        },
        {
          "name": "stderr",
          "output_type": "stream",
          "text": [
            "100%|██████████| 60/60 [00:52<00:00,  1.14it/s]\n",
            "100%|██████████| 15/15 [00:06<00:00,  2.24it/s]\n"
          ]
        },
        {
          "name": "stdout",
          "output_type": "stream",
          "text": [
            "Avg Valid Loss: 0.9973451495170593\n",
            "\n",
            "\n",
            "Epoch: 17\n"
          ]
        },
        {
          "name": "stderr",
          "output_type": "stream",
          "text": [
            "100%|██████████| 60/60 [00:52<00:00,  1.14it/s]\n",
            "100%|██████████| 15/15 [00:06<00:00,  2.19it/s]\n"
          ]
        },
        {
          "name": "stdout",
          "output_type": "stream",
          "text": [
            "Avg Valid Loss: 0.9913046360015869\n",
            "\n",
            "\n",
            "Epoch: 18\n"
          ]
        },
        {
          "name": "stderr",
          "output_type": "stream",
          "text": [
            "100%|██████████| 60/60 [00:52<00:00,  1.14it/s]\n",
            "100%|██████████| 15/15 [00:06<00:00,  2.20it/s]\n"
          ]
        },
        {
          "name": "stdout",
          "output_type": "stream",
          "text": [
            "Avg Valid Loss: 0.9570381045341492\n",
            "\n",
            "\n",
            "Epoch: 19\n"
          ]
        },
        {
          "name": "stderr",
          "output_type": "stream",
          "text": [
            "100%|██████████| 60/60 [00:52<00:00,  1.14it/s]\n",
            "100%|██████████| 15/15 [00:06<00:00,  2.23it/s]\n"
          ]
        },
        {
          "name": "stdout",
          "output_type": "stream",
          "text": [
            "Avg Valid Loss: 0.9994947910308838\n",
            "\n",
            "\n",
            "Epoch: 20\n"
          ]
        },
        {
          "name": "stderr",
          "output_type": "stream",
          "text": [
            "100%|██████████| 60/60 [00:52<00:00,  1.14it/s]\n",
            "100%|██████████| 15/15 [00:06<00:00,  2.24it/s]\n"
          ]
        },
        {
          "name": "stdout",
          "output_type": "stream",
          "text": [
            "Avg Valid Loss: 0.9793962240219116\n",
            "\n",
            "\n",
            "Epoch: 21\n"
          ]
        },
        {
          "name": "stderr",
          "output_type": "stream",
          "text": [
            "100%|██████████| 60/60 [00:52<00:00,  1.14it/s]\n",
            "100%|██████████| 15/15 [00:06<00:00,  2.26it/s]\n"
          ]
        },
        {
          "name": "stdout",
          "output_type": "stream",
          "text": [
            "Avg Valid Loss: 0.9411829113960266\n",
            "\n",
            "\n",
            "Epoch: 22\n"
          ]
        },
        {
          "name": "stderr",
          "output_type": "stream",
          "text": [
            "100%|██████████| 60/60 [00:52<00:00,  1.14it/s]\n",
            "100%|██████████| 15/15 [00:06<00:00,  2.20it/s]\n"
          ]
        },
        {
          "name": "stdout",
          "output_type": "stream",
          "text": [
            "Avg Valid Loss: 0.9611244797706604\n",
            "\n",
            "\n",
            "Epoch: 23\n"
          ]
        },
        {
          "name": "stderr",
          "output_type": "stream",
          "text": [
            "100%|██████████| 60/60 [00:52<00:00,  1.14it/s]\n",
            "100%|██████████| 15/15 [00:06<00:00,  2.22it/s]\n"
          ]
        },
        {
          "name": "stdout",
          "output_type": "stream",
          "text": [
            "Avg Valid Loss: 0.9333611130714417\n",
            "\n",
            "\n",
            "Epoch: 24\n"
          ]
        },
        {
          "name": "stderr",
          "output_type": "stream",
          "text": [
            "100%|██████████| 60/60 [00:52<00:00,  1.14it/s]\n",
            "100%|██████████| 15/15 [00:06<00:00,  2.16it/s]\n"
          ]
        },
        {
          "name": "stdout",
          "output_type": "stream",
          "text": [
            "Avg Valid Loss: 0.9589412212371826\n",
            "\n",
            "\n"
          ]
        },
        {
          "data": {
            "image/png": "[encoded data removed]",
            "text/plain": [
              "<Figure size 432x288 with 2 Axes>"
            ]
          },
          "metadata": {
            "needs_background": "light"
          },
          "output_type": "display_data"
        },
        {
          "name": "stdout",
          "output_type": "stream",
          "text": [
            "              precision    recall  f1-score   support\n",
            "\n",
            "    Belalang       0.87      0.76      0.81        17\n",
            "       Sehat       0.81      0.49      0.61        35\n",
            "        Ulat       0.87      0.90      0.88        50\n",
            "      Wereng       0.66      0.90      0.76        39\n",
            "\n",
            "    accuracy                           0.78       141\n",
            "   macro avg       0.80      0.76      0.77       141\n",
            "weighted avg       0.79      0.78      0.77       141\n",
            "\n",
            "[1.0266690910259881]\n",
            "[1.0967375063896179]\n",
            "FOLD 1\n",
            "--------------------------------\n"
          ]
        },
        {
          "name": "stderr",
          "output_type": "stream",
          "text": [
            "/usr/local/lib/python3.8/dist-packages/torch/utils/data/dataloader.py:554: UserWarning: This DataLoader will create 4 worker processes in total. Our suggested max number of worker in current system is 2, which is smaller than what this DataLoader is going to create. Please be aware that excessive worker creation might get DataLoader running slow or even freeze, lower the worker number to avoid potential slowness/freeze if necessary.\n",
            "  warnings.warn(_create_warning_msg(\n",
            "/usr/local/lib/python3.8/dist-packages/torchvision/models/_utils.py:208: UserWarning: The parameter 'pretrained' is deprecated since 0.13 and may be removed in the future, please use 'weights' instead.\n",
            "  warnings.warn(\n",
            "/usr/local/lib/python3.8/dist-packages/torchvision/models/_utils.py:223: UserWarning: Arguments other than a weight enum or `None` for 'weights' are deprecated since 0.13 and may be removed in the future. The current behavior is equivalent to passing `weights=MaskRCNN_ResNet50_FPN_Weights.COCO_V1`. You can also use `weights=MaskRCNN_ResNet50_FPN_Weights.DEFAULT` to get the most up-to-date weights.\n",
            "  warnings.warn(msg)\n"
          ]
        },
        {
          "name": "stdout",
          "output_type": "stream",
          "text": [
            "Epoch: 0\n"
          ]
        },
        {
          "name": "stderr",
          "output_type": "stream",
          "text": [
            "100%|██████████| 60/60 [00:52<00:00,  1.14it/s]\n",
            "100%|██████████| 15/15 [00:06<00:00,  2.17it/s]\n"
          ]
        },
        {
          "name": "stdout",
          "output_type": "stream",
          "text": [
            "Avg Valid Loss: 1.5835779905319214\n",
            "\n",
            "\n",
            "Epoch: 1\n"
          ]
        },
        {
          "name": "stderr",
          "output_type": "stream",
          "text": [
            "100%|██████████| 60/60 [00:52<00:00,  1.14it/s]\n",
            "100%|██████████| 15/15 [00:06<00:00,  2.25it/s]\n"
          ]
        },
        {
          "name": "stdout",
          "output_type": "stream",
          "text": [
            "Avg Valid Loss: 1.2958358526229858\n",
            "\n",
            "\n",
            "Epoch: 2\n"
          ]
        },
        {
          "name": "stderr",
          "output_type": "stream",
          "text": [
            "100%|██████████| 60/60 [00:52<00:00,  1.14it/s]\n",
            "100%|██████████| 15/15 [00:06<00:00,  2.18it/s]\n"
          ]
        },
        {
          "name": "stdout",
          "output_type": "stream",
          "text": [
            "Avg Valid Loss: 1.1375669240951538\n",
            "\n",
            "\n",
            "Epoch: 3\n"
          ]
        },
        {
          "name": "stderr",
          "output_type": "stream",
          "text": [
            "100%|██████████| 60/60 [00:52<00:00,  1.14it/s]\n",
            "100%|██████████| 15/15 [00:06<00:00,  2.21it/s]\n"
          ]
        },
        {
          "name": "stdout",
          "output_type": "stream",
          "text": [
            "Avg Valid Loss: 1.0916693210601807\n",
            "\n",
            "\n",
            "Epoch: 4\n"
          ]
        },
        {
          "name": "stderr",
          "output_type": "stream",
          "text": [
            "100%|██████████| 60/60 [00:52<00:00,  1.14it/s]\n",
            "100%|██████████| 15/15 [00:06<00:00,  2.24it/s]\n"
          ]
        },
        {
          "name": "stdout",
          "output_type": "stream",
          "text": [
            "Avg Valid Loss: 1.0867588520050049\n",
            "\n",
            "\n",
            "Epoch: 5\n"
          ]
        },
        {
          "name": "stderr",
          "output_type": "stream",
          "text": [
            "100%|██████████| 60/60 [00:52<00:00,  1.14it/s]\n",
            "100%|██████████| 15/15 [00:06<00:00,  2.23it/s]\n"
          ]
        },
        {
          "name": "stdout",
          "output_type": "stream",
          "text": [
            "Avg Valid Loss: 1.0266165733337402\n",
            "\n",
            "\n",
            "Epoch: 6\n"
          ]
        },
        {
          "name": "stderr",
          "output_type": "stream",
          "text": [
            "100%|██████████| 60/60 [00:52<00:00,  1.14it/s]\n",
            "100%|██████████| 15/15 [00:06<00:00,  2.25it/s]\n"
          ]
        },
        {
          "name": "stdout",
          "output_type": "stream",
          "text": [
            "Avg Valid Loss: 1.0177137851715088\n",
            "\n",
            "\n",
            "Epoch: 7\n"
          ]
        },
        {
          "name": "stderr",
          "output_type": "stream",
          "text": [
            "100%|██████████| 60/60 [00:52<00:00,  1.14it/s]\n",
            "100%|██████████| 15/15 [00:06<00:00,  2.24it/s]\n"
          ]
        },
        {
          "name": "stdout",
          "output_type": "stream",
          "text": [
            "Avg Valid Loss: 0.9904816746711731\n",
            "\n",
            "\n",
            "Epoch: 8\n"
          ]
        },
        {
          "name": "stderr",
          "output_type": "stream",
          "text": [
            "100%|██████████| 60/60 [00:52<00:00,  1.14it/s]\n",
            "100%|██████████| 15/15 [00:06<00:00,  2.22it/s]\n"
          ]
        },
        {
          "name": "stdout",
          "output_type": "stream",
          "text": [
            "Avg Valid Loss: 0.9774304628372192\n",
            "\n",
            "\n",
            "Epoch: 9\n"
          ]
        },
        {
          "name": "stderr",
          "output_type": "stream",
          "text": [
            "100%|██████████| 60/60 [00:52<00:00,  1.14it/s]\n",
            "100%|██████████| 15/15 [00:06<00:00,  2.24it/s]\n"
          ]
        },
        {
          "name": "stdout",
          "output_type": "stream",
          "text": [
            "Avg Valid Loss: 0.9288787245750427\n",
            "\n",
            "\n",
            "Epoch: 10\n"
          ]
        },
        {
          "name": "stderr",
          "output_type": "stream",
          "text": [
            "100%|██████████| 60/60 [00:52<00:00,  1.14it/s]\n",
            "100%|██████████| 15/15 [00:06<00:00,  2.28it/s]\n"
          ]
        },
        {
          "name": "stdout",
          "output_type": "stream",
          "text": [
            "Avg Valid Loss: 0.9369233846664429\n",
            "\n",
            "\n",
            "Epoch: 11\n"
          ]
        },
        {
          "name": "stderr",
          "output_type": "stream",
          "text": [
            "100%|██████████| 60/60 [00:52<00:00,  1.14it/s]\n",
            "100%|██████████| 15/15 [00:06<00:00,  2.20it/s]\n"
          ]
        },
        {
          "name": "stdout",
          "output_type": "stream",
          "text": [
            "Avg Valid Loss: 0.9264177680015564\n",
            "\n",
            "\n",
            "Epoch: 12\n"
          ]
        },
        {
          "name": "stderr",
          "output_type": "stream",
          "text": [
            "100%|██████████| 60/60 [00:52<00:00,  1.14it/s]\n",
            "100%|██████████| 15/15 [00:06<00:00,  2.21it/s]\n"
          ]
        },
        {
          "name": "stdout",
          "output_type": "stream",
          "text": [
            "Avg Valid Loss: 0.9143601059913635\n",
            "\n",
            "\n",
            "Epoch: 13\n"
          ]
        },
        {
          "name": "stderr",
          "output_type": "stream",
          "text": [
            "100%|██████████| 60/60 [00:52<00:00,  1.14it/s]\n",
            "100%|██████████| 15/15 [00:06<00:00,  2.23it/s]\n"
          ]
        },
        {
          "name": "stdout",
          "output_type": "stream",
          "text": [
            "Avg Valid Loss: 0.9013606309890747\n",
            "\n",
            "\n",
            "Epoch: 14\n"
          ]
        },
        {
          "name": "stderr",
          "output_type": "stream",
          "text": [
            "100%|██████████| 60/60 [00:52<00:00,  1.15it/s]\n",
            "100%|██████████| 15/15 [00:06<00:00,  2.23it/s]\n"
          ]
        },
        {
          "name": "stdout",
          "output_type": "stream",
          "text": [
            "Avg Valid Loss: 0.9010491967201233\n",
            "\n",
            "\n",
            "Epoch: 15\n"
          ]
        },
        {
          "name": "stderr",
          "output_type": "stream",
          "text": [
            "100%|██████████| 60/60 [00:52<00:00,  1.14it/s]\n",
            "100%|██████████| 15/15 [00:06<00:00,  2.20it/s]\n"
          ]
        },
        {
          "name": "stdout",
          "output_type": "stream",
          "text": [
            "Avg Valid Loss: 0.8876943588256836\n",
            "\n",
            "\n",
            "Epoch: 16\n"
          ]
        },
        {
          "name": "stderr",
          "output_type": "stream",
          "text": [
            "100%|██████████| 60/60 [00:52<00:00,  1.14it/s]\n",
            "100%|██████████| 15/15 [00:06<00:00,  2.24it/s]\n"
          ]
        },
        {
          "name": "stdout",
          "output_type": "stream",
          "text": [
            "Avg Valid Loss: 0.9002112150192261\n",
            "\n",
            "\n",
            "Epoch: 17\n"
          ]
        },
        {
          "name": "stderr",
          "output_type": "stream",
          "text": [
            "100%|██████████| 60/60 [00:52<00:00,  1.14it/s]\n",
            "100%|██████████| 15/15 [00:06<00:00,  2.21it/s]\n"
          ]
        },
        {
          "name": "stdout",
          "output_type": "stream",
          "text": [
            "Avg Valid Loss: 0.885646402835846\n",
            "\n",
            "\n",
            "Epoch: 18\n"
          ]
        },
        {
          "name": "stderr",
          "output_type": "stream",
          "text": [
            "100%|██████████| 60/60 [00:52<00:00,  1.14it/s]\n",
            "100%|██████████| 15/15 [00:06<00:00,  2.24it/s]\n"
          ]
        },
        {
          "name": "stdout",
          "output_type": "stream",
          "text": [
            "Avg Valid Loss: 0.874039351940155\n",
            "\n",
            "\n",
            "Epoch: 19\n"
          ]
        },
        {
          "name": "stderr",
          "output_type": "stream",
          "text": [
            "100%|██████████| 60/60 [00:52<00:00,  1.14it/s]\n",
            "100%|██████████| 15/15 [00:06<00:00,  2.23it/s]\n"
          ]
        },
        {
          "name": "stdout",
          "output_type": "stream",
          "text": [
            "Avg Valid Loss: 0.8741984963417053\n",
            "\n",
            "\n",
            "Epoch: 20\n"
          ]
        },
        {
          "name": "stderr",
          "output_type": "stream",
          "text": [
            "100%|██████████| 60/60 [00:52<00:00,  1.14it/s]\n",
            "100%|██████████| 15/15 [00:06<00:00,  2.22it/s]\n"
          ]
        },
        {
          "name": "stdout",
          "output_type": "stream",
          "text": [
            "Avg Valid Loss: 0.8684722781181335\n",
            "\n",
            "\n",
            "Epoch: 21\n"
          ]
        },
        {
          "name": "stderr",
          "output_type": "stream",
          "text": [
            "100%|██████████| 60/60 [00:52<00:00,  1.14it/s]\n",
            "100%|██████████| 15/15 [00:06<00:00,  2.21it/s]\n"
          ]
        },
        {
          "name": "stdout",
          "output_type": "stream",
          "text": [
            "Avg Valid Loss: 0.8384281992912292\n",
            "\n",
            "\n",
            "Epoch: 22\n"
          ]
        },
        {
          "name": "stderr",
          "output_type": "stream",
          "text": [
            "100%|██████████| 60/60 [00:52<00:00,  1.14it/s]\n",
            "100%|██████████| 15/15 [00:06<00:00,  2.23it/s]\n"
          ]
        },
        {
          "name": "stdout",
          "output_type": "stream",
          "text": [
            "Avg Valid Loss: 0.8223152756690979\n",
            "\n",
            "\n",
            "Epoch: 23\n"
          ]
        },
        {
          "name": "stderr",
          "output_type": "stream",
          "text": [
            "100%|██████████| 60/60 [00:52<00:00,  1.14it/s]\n",
            "100%|██████████| 15/15 [00:06<00:00,  2.24it/s]\n"
          ]
        },
        {
          "name": "stdout",
          "output_type": "stream",
          "text": [
            "Avg Valid Loss: 0.804071843624115\n",
            "\n",
            "\n",
            "Epoch: 24\n"
          ]
        },
        {
          "name": "stderr",
          "output_type": "stream",
          "text": [
            "100%|██████████| 60/60 [00:52<00:00,  1.14it/s]\n",
            "100%|██████████| 15/15 [00:06<00:00,  2.26it/s]"
          ]
        },
        {
          "name": "stdout",
          "output_type": "stream",
          "text": [
            "Avg Valid Loss: 0.820453941822052\n",
            "\n",
            "\n"
          ]
        },
        {
          "name": "stderr",
          "output_type": "stream",
          "text": [
            "\n"
          ]
        },
        {
          "data": {
            "image/png": "[encoded data removed]",
            "text/plain": [
              "<Figure size 432x288 with 2 Axes>"
            ]
          },
          "metadata": {
            "needs_background": "light"
          },
          "output_type": "display_data"
        },
        {
          "name": "stdout",
          "output_type": "stream",
          "text": [
            "              precision    recall  f1-score   support\n",
            "\n",
            "    Belalang       0.87      0.76      0.81        17\n",
            "       Sehat       0.81      0.57      0.67        30\n",
            "        Ulat       0.88      0.92      0.90        50\n",
            "      Wereng       0.74      0.89      0.80        44\n",
            "\n",
            "    accuracy                           0.82       141\n",
            "   macro avg       0.82      0.78      0.80       141\n",
            "weighted avg       0.82      0.82      0.81       141\n",
            "\n",
            "[1.0266690910259881, 1.0586435804367065]\n",
            "[1.0967375063896179, 0.9716869044303894]\n",
            "FOLD 2\n",
            "--------------------------------\n"
          ]
        },
        {
          "name": "stderr",
          "output_type": "stream",
          "text": [
            "/usr/local/lib/python3.8/dist-packages/torch/utils/data/dataloader.py:554: UserWarning: This DataLoader will create 4 worker processes in total. Our suggested max number of worker in current system is 2, which is smaller than what this DataLoader is going to create. Please be aware that excessive worker creation might get DataLoader running slow or even freeze, lower the worker number to avoid potential slowness/freeze if necessary.\n",
            "  warnings.warn(_create_warning_msg(\n",
            "/usr/local/lib/python3.8/dist-packages/torchvision/models/_utils.py:208: UserWarning: The parameter 'pretrained' is deprecated since 0.13 and may be removed in the future, please use 'weights' instead.\n",
            "  warnings.warn(\n",
            "/usr/local/lib/python3.8/dist-packages/torchvision/models/_utils.py:223: UserWarning: Arguments other than a weight enum or `None` for 'weights' are deprecated since 0.13 and may be removed in the future. The current behavior is equivalent to passing `weights=MaskRCNN_ResNet50_FPN_Weights.COCO_V1`. You can also use `weights=MaskRCNN_ResNet50_FPN_Weights.DEFAULT` to get the most up-to-date weights.\n",
            "  warnings.warn(msg)\n"
          ]
        },
        {
          "name": "stdout",
          "output_type": "stream",
          "text": [
            "Epoch: 0\n"
          ]
        },
        {
          "name": "stderr",
          "output_type": "stream",
          "text": [
            "100%|██████████| 60/60 [00:52<00:00,  1.15it/s]\n",
            "100%|██████████| 15/15 [00:06<00:00,  2.15it/s]\n"
          ]
        },
        {
          "name": "stdout",
          "output_type": "stream",
          "text": [
            "Avg Valid Loss: 1.6654826402664185\n",
            "\n",
            "\n",
            "Epoch: 1\n"
          ]
        },
        {
          "name": "stderr",
          "output_type": "stream",
          "text": [
            "100%|██████████| 60/60 [00:52<00:00,  1.15it/s]\n",
            "100%|██████████| 15/15 [00:06<00:00,  2.25it/s]\n"
          ]
        },
        {
          "name": "stdout",
          "output_type": "stream",
          "text": [
            "Avg Valid Loss: 1.3301478624343872\n",
            "\n",
            "\n",
            "Epoch: 2\n"
          ]
        },
        {
          "name": "stderr",
          "output_type": "stream",
          "text": [
            "100%|██████████| 60/60 [00:52<00:00,  1.14it/s]\n",
            "100%|██████████| 15/15 [00:06<00:00,  2.19it/s]\n"
          ]
        },
        {
          "name": "stdout",
          "output_type": "stream",
          "text": [
            "Avg Valid Loss: 1.232445240020752\n",
            "\n",
            "\n",
            "Epoch: 3\n"
          ]
        },
        {
          "name": "stderr",
          "output_type": "stream",
          "text": [
            "100%|██████████| 60/60 [00:52<00:00,  1.15it/s]\n",
            "100%|██████████| 15/15 [00:06<00:00,  2.24it/s]\n"
          ]
        },
        {
          "name": "stdout",
          "output_type": "stream",
          "text": [
            "Avg Valid Loss: 1.2094968557357788\n",
            "\n",
            "\n",
            "Epoch: 4\n"
          ]
        },
        {
          "name": "stderr",
          "output_type": "stream",
          "text": [
            "100%|██████████| 60/60 [00:52<00:00,  1.15it/s]\n",
            "100%|██████████| 15/15 [00:06<00:00,  2.23it/s]\n"
          ]
        },
        {
          "name": "stdout",
          "output_type": "stream",
          "text": [
            "Avg Valid Loss: 1.156683325767517\n",
            "\n",
            "\n",
            "Epoch: 5\n"
          ]
        },
        {
          "name": "stderr",
          "output_type": "stream",
          "text": [
            "100%|██████████| 60/60 [00:52<00:00,  1.15it/s]\n",
            "100%|██████████| 15/15 [00:06<00:00,  2.22it/s]\n"
          ]
        },
        {
          "name": "stdout",
          "output_type": "stream",
          "text": [
            "Avg Valid Loss: 1.1111884117126465\n",
            "\n",
            "\n",
            "Epoch: 6\n"
          ]
        },
        {
          "name": "stderr",
          "output_type": "stream",
          "text": [
            "100%|██████████| 60/60 [00:52<00:00,  1.15it/s]\n",
            "100%|██████████| 15/15 [00:06<00:00,  2.20it/s]\n"
          ]
        },
        {
          "name": "stdout",
          "output_type": "stream",
          "text": [
            "Avg Valid Loss: 1.076185703277588\n",
            "\n",
            "\n",
            "Epoch: 7\n"
          ]
        },
        {
          "name": "stderr",
          "output_type": "stream",
          "text": [
            "100%|██████████| 60/60 [00:52<00:00,  1.14it/s]\n",
            "100%|██████████| 15/15 [00:06<00:00,  2.21it/s]\n"
          ]
        },
        {
          "name": "stdout",
          "output_type": "stream",
          "text": [
            "Avg Valid Loss: 1.064677357673645\n",
            "\n",
            "\n",
            "Epoch: 8\n"
          ]
        },
        {
          "name": "stderr",
          "output_type": "stream",
          "text": [
            "100%|██████████| 60/60 [00:52<00:00,  1.14it/s]\n",
            "100%|██████████| 15/15 [00:06<00:00,  2.29it/s]\n"
          ]
        },
        {
          "name": "stdout",
          "output_type": "stream",
          "text": [
            "Avg Valid Loss: 1.0327707529067993\n",
            "\n",
            "\n",
            "Epoch: 9\n"
          ]
        },
        {
          "name": "stderr",
          "output_type": "stream",
          "text": [
            "100%|██████████| 60/60 [00:52<00:00,  1.15it/s]\n",
            "100%|██████████| 15/15 [00:06<00:00,  2.30it/s]\n"
          ]
        },
        {
          "name": "stdout",
          "output_type": "stream",
          "text": [
            "Avg Valid Loss: 0.9946599006652832\n",
            "\n",
            "\n",
            "Epoch: 10\n"
          ]
        },
        {
          "name": "stderr",
          "output_type": "stream",
          "text": [
            "100%|██████████| 60/60 [00:52<00:00,  1.14it/s]\n",
            "100%|██████████| 15/15 [00:06<00:00,  2.21it/s]\n"
          ]
        },
        {
          "name": "stdout",
          "output_type": "stream",
          "text": [
            "Avg Valid Loss: 1.0031577348709106\n",
            "\n",
            "\n",
            "Epoch: 11\n"
          ]
        },
        {
          "name": "stderr",
          "output_type": "stream",
          "text": [
            "100%|██████████| 60/60 [00:52<00:00,  1.15it/s]\n",
            "100%|██████████| 15/15 [00:06<00:00,  2.21it/s]\n"
          ]
        },
        {
          "name": "stdout",
          "output_type": "stream",
          "text": [
            "Avg Valid Loss: 0.9855844378471375\n",
            "\n",
            "\n",
            "Epoch: 12\n"
          ]
        },
        {
          "name": "stderr",
          "output_type": "stream",
          "text": [
            "100%|██████████| 60/60 [00:52<00:00,  1.14it/s]\n",
            "100%|██████████| 15/15 [00:06<00:00,  2.24it/s]\n"
          ]
        },
        {
          "name": "stdout",
          "output_type": "stream",
          "text": [
            "Avg Valid Loss: 0.9451692700386047\n",
            "\n",
            "\n",
            "Epoch: 13\n"
          ]
        },
        {
          "name": "stderr",
          "output_type": "stream",
          "text": [
            "100%|██████████| 60/60 [00:52<00:00,  1.15it/s]\n",
            "100%|██████████| 15/15 [00:06<00:00,  2.21it/s]\n"
          ]
        },
        {
          "name": "stdout",
          "output_type": "stream",
          "text": [
            "Avg Valid Loss: 0.9500147104263306\n",
            "\n",
            "\n",
            "Epoch: 14\n"
          ]
        },
        {
          "name": "stderr",
          "output_type": "stream",
          "text": [
            "100%|██████████| 60/60 [00:52<00:00,  1.14it/s]\n",
            "100%|██████████| 15/15 [00:06<00:00,  2.26it/s]\n"
          ]
        },
        {
          "name": "stdout",
          "output_type": "stream",
          "text": [
            "Avg Valid Loss: 0.9494078755378723\n",
            "\n",
            "\n",
            "Epoch: 15\n"
          ]
        },
        {
          "name": "stderr",
          "output_type": "stream",
          "text": [
            "100%|██████████| 60/60 [00:52<00:00,  1.14it/s]\n",
            "100%|██████████| 15/15 [00:07<00:00,  2.09it/s]\n"
          ]
        },
        {
          "name": "stdout",
          "output_type": "stream",
          "text": [
            "Avg Valid Loss: 0.8954936265945435\n",
            "\n",
            "\n",
            "Epoch: 16\n"
          ]
        },
        {
          "name": "stderr",
          "output_type": "stream",
          "text": [
            "100%|██████████| 60/60 [00:52<00:00,  1.14it/s]\n",
            "100%|██████████| 15/15 [00:06<00:00,  2.19it/s]\n"
          ]
        },
        {
          "name": "stdout",
          "output_type": "stream",
          "text": [
            "Avg Valid Loss: 0.9021762013435364\n",
            "\n",
            "\n",
            "Epoch: 17\n"
          ]
        },
        {
          "name": "stderr",
          "output_type": "stream",
          "text": [
            "100%|██████████| 60/60 [00:52<00:00,  1.15it/s]\n",
            "100%|██████████| 15/15 [00:06<00:00,  2.25it/s]\n"
          ]
        },
        {
          "name": "stdout",
          "output_type": "stream",
          "text": [
            "Avg Valid Loss: 0.9170784950256348\n",
            "\n",
            "\n",
            "Epoch: 18\n"
          ]
        },
        {
          "name": "stderr",
          "output_type": "stream",
          "text": [
            "100%|██████████| 60/60 [00:52<00:00,  1.14it/s]\n",
            "100%|██████████| 15/15 [00:06<00:00,  2.25it/s]\n"
          ]
        },
        {
          "name": "stdout",
          "output_type": "stream",
          "text": [
            "Avg Valid Loss: 0.9095970392227173\n",
            "\n",
            "\n",
            "Epoch: 19\n"
          ]
        },
        {
          "name": "stderr",
          "output_type": "stream",
          "text": [
            "100%|██████████| 60/60 [00:52<00:00,  1.15it/s]\n",
            "100%|██████████| 15/15 [00:06<00:00,  2.19it/s]\n"
          ]
        },
        {
          "name": "stdout",
          "output_type": "stream",
          "text": [
            "Avg Valid Loss: 0.906721293926239\n",
            "\n",
            "\n",
            "Epoch: 20\n"
          ]
        },
        {
          "name": "stderr",
          "output_type": "stream",
          "text": [
            "100%|██████████| 60/60 [00:52<00:00,  1.14it/s]\n",
            "100%|██████████| 15/15 [00:06<00:00,  2.20it/s]\n"
          ]
        },
        {
          "name": "stdout",
          "output_type": "stream",
          "text": [
            "Avg Valid Loss: 0.8618392944335938\n",
            "\n",
            "\n",
            "Epoch: 21\n"
          ]
        },
        {
          "name": "stderr",
          "output_type": "stream",
          "text": [
            "100%|██████████| 60/60 [00:52<00:00,  1.15it/s]\n",
            "100%|██████████| 15/15 [00:06<00:00,  2.24it/s]\n"
          ]
        },
        {
          "name": "stdout",
          "output_type": "stream",
          "text": [
            "Avg Valid Loss: 0.90317302942276\n",
            "\n",
            "\n",
            "Epoch: 22\n"
          ]
        },
        {
          "name": "stderr",
          "output_type": "stream",
          "text": [
            "100%|██████████| 60/60 [00:52<00:00,  1.15it/s]\n",
            "100%|██████████| 15/15 [00:06<00:00,  2.25it/s]\n"
          ]
        },
        {
          "name": "stdout",
          "output_type": "stream",
          "text": [
            "Avg Valid Loss: 0.8768109679222107\n",
            "\n",
            "\n",
            "Epoch: 23\n"
          ]
        },
        {
          "name": "stderr",
          "output_type": "stream",
          "text": [
            "100%|██████████| 60/60 [00:52<00:00,  1.14it/s]\n",
            "100%|██████████| 15/15 [00:06<00:00,  2.21it/s]\n"
          ]
        },
        {
          "name": "stdout",
          "output_type": "stream",
          "text": [
            "Avg Valid Loss: 0.8924859166145325\n",
            "\n",
            "\n",
            "Epoch: 24\n"
          ]
        },
        {
          "name": "stderr",
          "output_type": "stream",
          "text": [
            "100%|██████████| 60/60 [00:52<00:00,  1.15it/s]\n",
            "100%|██████████| 15/15 [00:06<00:00,  2.18it/s]"
          ]
        },
        {
          "name": "stdout",
          "output_type": "stream",
          "text": [
            "Avg Valid Loss: 0.8563922643661499\n",
            "\n",
            "\n"
          ]
        },
        {
          "name": "stderr",
          "output_type": "stream",
          "text": [
            "\n"
          ]
        },
        {
          "data": {
            "image/png": "[encoded data removed]",
            "text/plain": [
              "<Figure size 432x288 with 2 Axes>"
            ]
          },
          "metadata": {
            "needs_background": "light"
          },
          "output_type": "display_data"
        },
        {
          "name": "stdout",
          "output_type": "stream",
          "text": [
            "              precision    recall  f1-score   support\n",
            "\n",
            "    Belalang       0.87      0.81      0.84        16\n",
            "       Sehat       0.86      0.64      0.73        28\n",
            "        Ulat       0.90      0.94      0.92        50\n",
            "      Wereng       0.81      0.91      0.86        47\n",
            "\n",
            "    accuracy                           0.86       141\n",
            "   macro avg       0.86      0.83      0.84       141\n",
            "weighted avg       0.86      0.86      0.85       141\n",
            "\n",
            "[1.0266690910259881, 1.0586435804367065, 1.0540054761767386]\n",
            "[1.0967375063896179, 0.9716869044303894, 1.0251536083221435]\n",
            "FOLD 3\n",
            "--------------------------------\n"
          ]
        },
        {
          "name": "stderr",
          "output_type": "stream",
          "text": [
            "/usr/local/lib/python3.8/dist-packages/torch/utils/data/dataloader.py:554: UserWarning: This DataLoader will create 4 worker processes in total. Our suggested max number of worker in current system is 2, which is smaller than what this DataLoader is going to create. Please be aware that excessive worker creation might get DataLoader running slow or even freeze, lower the worker number to avoid potential slowness/freeze if necessary.\n",
            "  warnings.warn(_create_warning_msg(\n",
            "/usr/local/lib/python3.8/dist-packages/torchvision/models/_utils.py:208: UserWarning: The parameter 'pretrained' is deprecated since 0.13 and may be removed in the future, please use 'weights' instead.\n",
            "  warnings.warn(\n",
            "/usr/local/lib/python3.8/dist-packages/torchvision/models/_utils.py:223: UserWarning: Arguments other than a weight enum or `None` for 'weights' are deprecated since 0.13 and may be removed in the future. The current behavior is equivalent to passing `weights=MaskRCNN_ResNet50_FPN_Weights.COCO_V1`. You can also use `weights=MaskRCNN_ResNet50_FPN_Weights.DEFAULT` to get the most up-to-date weights.\n",
            "  warnings.warn(msg)\n"
          ]
        },
        {
          "name": "stdout",
          "output_type": "stream",
          "text": [
            "Epoch: 0\n"
          ]
        },
        {
          "name": "stderr",
          "output_type": "stream",
          "text": [
            "100%|██████████| 60/60 [00:52<00:00,  1.14it/s]\n",
            "100%|██████████| 15/15 [00:06<00:00,  2.25it/s]\n"
          ]
        },
        {
          "name": "stdout",
          "output_type": "stream",
          "text": [
            "Avg Valid Loss: 1.423109769821167\n",
            "\n",
            "\n",
            "Epoch: 1\n"
          ]
        },
        {
          "name": "stderr",
          "output_type": "stream",
          "text": [
            "100%|██████████| 60/60 [00:52<00:00,  1.14it/s]\n",
            "100%|██████████| 15/15 [00:06<00:00,  2.27it/s]\n"
          ]
        },
        {
          "name": "stdout",
          "output_type": "stream",
          "text": [
            "Avg Valid Loss: 1.2298862934112549\n",
            "\n",
            "\n",
            "Epoch: 2\n"
          ]
        },
        {
          "name": "stderr",
          "output_type": "stream",
          "text": [
            "100%|██████████| 60/60 [00:52<00:00,  1.14it/s]\n",
            "100%|██████████| 15/15 [00:06<00:00,  2.23it/s]\n"
          ]
        },
        {
          "name": "stdout",
          "output_type": "stream",
          "text": [
            "Avg Valid Loss: 1.1770005226135254\n",
            "\n",
            "\n",
            "Epoch: 3\n"
          ]
        },
        {
          "name": "stderr",
          "output_type": "stream",
          "text": [
            "100%|██████████| 60/60 [00:52<00:00,  1.14it/s]\n",
            "100%|██████████| 15/15 [00:06<00:00,  2.24it/s]\n"
          ]
        },
        {
          "name": "stdout",
          "output_type": "stream",
          "text": [
            "Avg Valid Loss: 1.1149765253067017\n",
            "\n",
            "\n",
            "Epoch: 4\n"
          ]
        },
        {
          "name": "stderr",
          "output_type": "stream",
          "text": [
            "100%|██████████| 60/60 [00:52<00:00,  1.13it/s]\n",
            "100%|██████████| 15/15 [00:06<00:00,  2.26it/s]\n"
          ]
        },
        {
          "name": "stdout",
          "output_type": "stream",
          "text": [
            "Avg Valid Loss: 1.0886192321777344\n",
            "\n",
            "\n",
            "Epoch: 5\n"
          ]
        },
        {
          "name": "stderr",
          "output_type": "stream",
          "text": [
            "100%|██████████| 60/60 [00:52<00:00,  1.13it/s]\n",
            "100%|██████████| 15/15 [00:06<00:00,  2.24it/s]\n"
          ]
        },
        {
          "name": "stdout",
          "output_type": "stream",
          "text": [
            "Avg Valid Loss: 1.03213632106781\n",
            "\n",
            "\n",
            "Epoch: 6\n"
          ]
        },
        {
          "name": "stderr",
          "output_type": "stream",
          "text": [
            "100%|██████████| 60/60 [00:52<00:00,  1.14it/s]\n",
            "100%|██████████| 15/15 [00:06<00:00,  2.27it/s]\n"
          ]
        },
        {
          "name": "stdout",
          "output_type": "stream",
          "text": [
            "Avg Valid Loss: 1.0067448616027832\n",
            "\n",
            "\n",
            "Epoch: 7\n"
          ]
        },
        {
          "name": "stderr",
          "output_type": "stream",
          "text": [
            "100%|██████████| 60/60 [00:52<00:00,  1.14it/s]\n",
            "100%|██████████| 15/15 [00:06<00:00,  2.28it/s]\n"
          ]
        },
        {
          "name": "stdout",
          "output_type": "stream",
          "text": [
            "Avg Valid Loss: 0.9837278723716736\n",
            "\n",
            "\n",
            "Epoch: 8\n"
          ]
        },
        {
          "name": "stderr",
          "output_type": "stream",
          "text": [
            "100%|██████████| 60/60 [00:52<00:00,  1.14it/s]\n",
            "100%|██████████| 15/15 [00:06<00:00,  2.24it/s]\n"
          ]
        },
        {
          "name": "stdout",
          "output_type": "stream",
          "text": [
            "Avg Valid Loss: 0.9839999675750732\n",
            "\n",
            "\n",
            "Epoch: 9\n"
          ]
        },
        {
          "name": "stderr",
          "output_type": "stream",
          "text": [
            "100%|██████████| 60/60 [00:52<00:00,  1.13it/s]\n",
            "100%|██████████| 15/15 [00:06<00:00,  2.21it/s]\n"
          ]
        },
        {
          "name": "stdout",
          "output_type": "stream",
          "text": [
            "Avg Valid Loss: 0.9387704133987427\n",
            "\n",
            "\n",
            "Epoch: 10\n"
          ]
        },
        {
          "name": "stderr",
          "output_type": "stream",
          "text": [
            "100%|██████████| 60/60 [00:52<00:00,  1.13it/s]\n",
            "100%|██████████| 15/15 [00:06<00:00,  2.27it/s]\n"
          ]
        },
        {
          "name": "stdout",
          "output_type": "stream",
          "text": [
            "Avg Valid Loss: 0.9296007752418518\n",
            "\n",
            "\n",
            "Epoch: 11\n"
          ]
        },
        {
          "name": "stderr",
          "output_type": "stream",
          "text": [
            "100%|██████████| 60/60 [00:52<00:00,  1.14it/s]\n",
            "100%|██████████| 15/15 [00:06<00:00,  2.25it/s]\n"
          ]
        },
        {
          "name": "stdout",
          "output_type": "stream",
          "text": [
            "Avg Valid Loss: 0.9651759266853333\n",
            "\n",
            "\n",
            "Epoch: 12\n"
          ]
        },
        {
          "name": "stderr",
          "output_type": "stream",
          "text": [
            "100%|██████████| 60/60 [00:52<00:00,  1.14it/s]\n",
            "100%|██████████| 15/15 [00:06<00:00,  2.27it/s]\n"
          ]
        },
        {
          "name": "stdout",
          "output_type": "stream",
          "text": [
            "Avg Valid Loss: 0.9253330230712891\n",
            "\n",
            "\n",
            "Epoch: 13\n"
          ]
        },
        {
          "name": "stderr",
          "output_type": "stream",
          "text": [
            "100%|██████████| 60/60 [00:52<00:00,  1.13it/s]\n",
            "100%|██████████| 15/15 [00:06<00:00,  2.25it/s]\n"
          ]
        },
        {
          "name": "stdout",
          "output_type": "stream",
          "text": [
            "Avg Valid Loss: 0.9281503558158875\n",
            "\n",
            "\n",
            "Epoch: 14\n"
          ]
        },
        {
          "name": "stderr",
          "output_type": "stream",
          "text": [
            "100%|██████████| 60/60 [00:52<00:00,  1.14it/s]\n",
            "100%|██████████| 15/15 [00:06<00:00,  2.27it/s]\n"
          ]
        },
        {
          "name": "stdout",
          "output_type": "stream",
          "text": [
            "Avg Valid Loss: 0.9225447773933411\n",
            "\n",
            "\n",
            "Epoch: 15\n"
          ]
        },
        {
          "name": "stderr",
          "output_type": "stream",
          "text": [
            "100%|██████████| 60/60 [00:52<00:00,  1.14it/s]\n",
            "100%|██████████| 15/15 [00:06<00:00,  2.31it/s]\n"
          ]
        },
        {
          "name": "stdout",
          "output_type": "stream",
          "text": [
            "Avg Valid Loss: 0.8799577355384827\n",
            "\n",
            "\n",
            "Epoch: 16\n"
          ]
        },
        {
          "name": "stderr",
          "output_type": "stream",
          "text": [
            "100%|██████████| 60/60 [00:52<00:00,  1.14it/s]\n",
            "100%|██████████| 15/15 [00:06<00:00,  2.26it/s]\n"
          ]
        },
        {
          "name": "stdout",
          "output_type": "stream",
          "text": [
            "Avg Valid Loss: 0.8800330758094788\n",
            "\n",
            "\n",
            "Epoch: 17\n"
          ]
        },
        {
          "name": "stderr",
          "output_type": "stream",
          "text": [
            "100%|██████████| 60/60 [00:52<00:00,  1.13it/s]\n",
            "100%|██████████| 15/15 [00:06<00:00,  2.29it/s]\n"
          ]
        },
        {
          "name": "stdout",
          "output_type": "stream",
          "text": [
            "Avg Valid Loss: 0.8672199249267578\n",
            "\n",
            "\n",
            "Epoch: 18\n"
          ]
        },
        {
          "name": "stderr",
          "output_type": "stream",
          "text": [
            "100%|██████████| 60/60 [00:52<00:00,  1.14it/s]\n",
            "100%|██████████| 15/15 [00:06<00:00,  2.22it/s]\n"
          ]
        },
        {
          "name": "stdout",
          "output_type": "stream",
          "text": [
            "Avg Valid Loss: 0.8722936511039734\n",
            "\n",
            "\n",
            "Epoch: 19\n"
          ]
        },
        {
          "name": "stderr",
          "output_type": "stream",
          "text": [
            "100%|██████████| 60/60 [00:52<00:00,  1.14it/s]\n",
            "100%|██████████| 15/15 [00:06<00:00,  2.24it/s]\n"
          ]
        },
        {
          "name": "stdout",
          "output_type": "stream",
          "text": [
            "Avg Valid Loss: 0.8464843034744263\n",
            "\n",
            "\n",
            "Epoch: 20\n"
          ]
        },
        {
          "name": "stderr",
          "output_type": "stream",
          "text": [
            "100%|██████████| 60/60 [00:52<00:00,  1.13it/s]\n",
            "100%|██████████| 15/15 [00:06<00:00,  2.25it/s]\n"
          ]
        },
        {
          "name": "stdout",
          "output_type": "stream",
          "text": [
            "Avg Valid Loss: 0.8873255848884583\n",
            "\n",
            "\n",
            "Epoch: 21\n"
          ]
        },
        {
          "name": "stderr",
          "output_type": "stream",
          "text": [
            "100%|██████████| 60/60 [00:52<00:00,  1.13it/s]\n",
            "100%|██████████| 15/15 [00:06<00:00,  2.26it/s]\n"
          ]
        },
        {
          "name": "stdout",
          "output_type": "stream",
          "text": [
            "Avg Valid Loss: 0.8699051141738892\n",
            "\n",
            "\n",
            "Epoch: 22\n"
          ]
        },
        {
          "name": "stderr",
          "output_type": "stream",
          "text": [
            "100%|██████████| 60/60 [00:52<00:00,  1.14it/s]\n",
            "100%|██████████| 15/15 [00:06<00:00,  2.25it/s]\n"
          ]
        },
        {
          "name": "stdout",
          "output_type": "stream",
          "text": [
            "Avg Valid Loss: 0.8392683267593384\n",
            "\n",
            "\n",
            "Epoch: 23\n"
          ]
        },
        {
          "name": "stderr",
          "output_type": "stream",
          "text": [
            "100%|██████████| 60/60 [00:52<00:00,  1.13it/s]\n",
            "100%|██████████| 15/15 [00:06<00:00,  2.26it/s]\n"
          ]
        },
        {
          "name": "stdout",
          "output_type": "stream",
          "text": [
            "Avg Valid Loss: 0.8537487387657166\n",
            "\n",
            "\n",
            "Epoch: 24\n"
          ]
        },
        {
          "name": "stderr",
          "output_type": "stream",
          "text": [
            "100%|██████████| 60/60 [00:52<00:00,  1.14it/s]\n",
            "100%|██████████| 15/15 [00:06<00:00,  2.27it/s]"
          ]
        },
        {
          "name": "stdout",
          "output_type": "stream",
          "text": [
            "Avg Valid Loss: 0.8424741625785828\n",
            "\n",
            "\n"
          ]
        },
        {
          "name": "stderr",
          "output_type": "stream",
          "text": [
            "\n"
          ]
        },
        {
          "data": {
            "image/png": "[encoded data removed]",
            "text/plain": [
              "<Figure size 432x288 with 2 Axes>"
            ]
          },
          "metadata": {
            "needs_background": "light"
          },
          "output_type": "display_data"
        },
        {
          "name": "stderr",
          "output_type": "stream",
          "text": [
            "/usr/local/lib/python3.8/dist-packages/torch/utils/data/dataloader.py:554: UserWarning: This DataLoader will create 4 worker processes in total. Our suggested max number of worker in current system is 2, which is smaller than what this DataLoader is going to create. Please be aware that excessive worker creation might get DataLoader running slow or even freeze, lower the worker number to avoid potential slowness/freeze if necessary.\n",
            "  warnings.warn(_create_warning_msg(\n",
            "/usr/local/lib/python3.8/dist-packages/torchvision/models/_utils.py:208: UserWarning: The parameter 'pretrained' is deprecated since 0.13 and may be removed in the future, please use 'weights' instead.\n",
            "  warnings.warn(\n",
            "/usr/local/lib/python3.8/dist-packages/torchvision/models/_utils.py:223: UserWarning: Arguments other than a weight enum or `None` for 'weights' are deprecated since 0.13 and may be removed in the future. The current behavior is equivalent to passing `weights=MaskRCNN_ResNet50_FPN_Weights.COCO_V1`. You can also use `weights=MaskRCNN_ResNet50_FPN_Weights.DEFAULT` to get the most up-to-date weights.\n",
            "  warnings.warn(msg)\n"
          ]
        },
        {
          "name": "stdout",
          "output_type": "stream",
          "text": [
            "              precision    recall  f1-score   support\n",
            "\n",
            "    Belalang       0.87      0.72      0.79        18\n",
            "       Sehat       0.81      0.63      0.71        27\n",
            "        Ulat       0.88      0.94      0.91        49\n",
            "      Wereng       0.81      0.91      0.86        47\n",
            "\n",
            "    accuracy                           0.84       141\n",
            "   macro avg       0.84      0.80      0.82       141\n",
            "weighted avg       0.84      0.84      0.84       141\n",
            "\n",
            "[1.0266690910259881, 1.0586435804367065, 1.0540054761767386, 1.0381516073942185]\n",
            "[1.0967375063896179, 0.9716869044303894, 1.0251536083221435, 0.971539490222931]\n",
            "FOLD 4\n",
            "--------------------------------\n",
            "Epoch: 0\n"
          ]
        },
        {
          "name": "stderr",
          "output_type": "stream",
          "text": [
            "100%|██████████| 60/60 [00:52<00:00,  1.14it/s]\n",
            "100%|██████████| 15/15 [00:06<00:00,  2.26it/s]\n"
          ]
        },
        {
          "name": "stdout",
          "output_type": "stream",
          "text": [
            "Avg Valid Loss: 1.6562526226043701\n",
            "\n",
            "\n",
            "Epoch: 1\n"
          ]
        },
        {
          "name": "stderr",
          "output_type": "stream",
          "text": [
            "100%|██████████| 60/60 [00:52<00:00,  1.15it/s]\n",
            "100%|██████████| 15/15 [00:06<00:00,  2.24it/s]\n"
          ]
        },
        {
          "name": "stdout",
          "output_type": "stream",
          "text": [
            "Avg Valid Loss: 1.3446216583251953\n",
            "\n",
            "\n",
            "Epoch: 2\n"
          ]
        },
        {
          "name": "stderr",
          "output_type": "stream",
          "text": [
            "100%|██████████| 60/60 [00:52<00:00,  1.15it/s]\n",
            "100%|██████████| 15/15 [00:06<00:00,  2.22it/s]\n"
          ]
        },
        {
          "name": "stdout",
          "output_type": "stream",
          "text": [
            "Avg Valid Loss: 1.2690865993499756\n",
            "\n",
            "\n",
            "Epoch: 3\n"
          ]
        },
        {
          "name": "stderr",
          "output_type": "stream",
          "text": [
            "100%|██████████| 60/60 [00:52<00:00,  1.14it/s]\n",
            "100%|██████████| 15/15 [00:06<00:00,  2.25it/s]\n"
          ]
        },
        {
          "name": "stdout",
          "output_type": "stream",
          "text": [
            "Avg Valid Loss: 1.2460949420928955\n",
            "\n",
            "\n",
            "Epoch: 4\n"
          ]
        },
        {
          "name": "stderr",
          "output_type": "stream",
          "text": [
            "100%|██████████| 60/60 [00:52<00:00,  1.14it/s]\n",
            "100%|██████████| 15/15 [00:06<00:00,  2.27it/s]\n"
          ]
        },
        {
          "name": "stdout",
          "output_type": "stream",
          "text": [
            "Avg Valid Loss: 1.1890860795974731\n",
            "\n",
            "\n",
            "Epoch: 5\n"
          ]
        },
        {
          "name": "stderr",
          "output_type": "stream",
          "text": [
            "100%|██████████| 60/60 [00:52<00:00,  1.15it/s]\n",
            "100%|██████████| 15/15 [00:06<00:00,  2.26it/s]\n"
          ]
        },
        {
          "name": "stdout",
          "output_type": "stream",
          "text": [
            "Avg Valid Loss: 1.1286028623580933\n",
            "\n",
            "\n",
            "Epoch: 6\n"
          ]
        },
        {
          "name": "stderr",
          "output_type": "stream",
          "text": [
            "100%|██████████| 60/60 [00:52<00:00,  1.14it/s]\n",
            "100%|██████████| 15/15 [00:06<00:00,  2.21it/s]\n"
          ]
        },
        {
          "name": "stdout",
          "output_type": "stream",
          "text": [
            "Avg Valid Loss: 1.114732027053833\n",
            "\n",
            "\n",
            "Epoch: 7\n"
          ]
        },
        {
          "name": "stderr",
          "output_type": "stream",
          "text": [
            "100%|██████████| 60/60 [00:52<00:00,  1.14it/s]\n",
            "100%|██████████| 15/15 [00:06<00:00,  2.24it/s]\n"
          ]
        },
        {
          "name": "stdout",
          "output_type": "stream",
          "text": [
            "Avg Valid Loss: 1.1158527135849\n",
            "\n",
            "\n",
            "Epoch: 8\n"
          ]
        },
        {
          "name": "stderr",
          "output_type": "stream",
          "text": [
            "100%|██████████| 60/60 [00:52<00:00,  1.14it/s]\n",
            "100%|██████████| 15/15 [00:06<00:00,  2.24it/s]\n"
          ]
        },
        {
          "name": "stdout",
          "output_type": "stream",
          "text": [
            "Avg Valid Loss: 1.02004873752594\n",
            "\n",
            "\n",
            "Epoch: 9\n"
          ]
        },
        {
          "name": "stderr",
          "output_type": "stream",
          "text": [
            "100%|██████████| 60/60 [00:52<00:00,  1.14it/s]\n",
            "100%|██████████| 15/15 [00:06<00:00,  2.23it/s]\n"
          ]
        },
        {
          "name": "stdout",
          "output_type": "stream",
          "text": [
            "Avg Valid Loss: 1.0560860633850098\n",
            "\n",
            "\n",
            "Epoch: 10\n"
          ]
        },
        {
          "name": "stderr",
          "output_type": "stream",
          "text": [
            "100%|██████████| 60/60 [00:52<00:00,  1.14it/s]\n",
            "100%|██████████| 15/15 [00:06<00:00,  2.24it/s]\n"
          ]
        },
        {
          "name": "stdout",
          "output_type": "stream",
          "text": [
            "Avg Valid Loss: 1.0084471702575684\n",
            "\n",
            "\n",
            "Epoch: 11\n"
          ]
        },
        {
          "name": "stderr",
          "output_type": "stream",
          "text": [
            "100%|██████████| 60/60 [00:52<00:00,  1.14it/s]\n",
            "100%|██████████| 15/15 [00:06<00:00,  2.26it/s]\n"
          ]
        },
        {
          "name": "stdout",
          "output_type": "stream",
          "text": [
            "Avg Valid Loss: 0.9982340931892395\n",
            "\n",
            "\n",
            "Epoch: 12\n"
          ]
        },
        {
          "name": "stderr",
          "output_type": "stream",
          "text": [
            "100%|██████████| 60/60 [00:53<00:00,  1.13it/s]\n",
            "100%|██████████| 15/15 [00:06<00:00,  2.27it/s]\n"
          ]
        },
        {
          "name": "stdout",
          "output_type": "stream",
          "text": [
            "Avg Valid Loss: 1.0223324298858643\n",
            "\n",
            "\n",
            "Epoch: 13\n"
          ]
        },
        {
          "name": "stderr",
          "output_type": "stream",
          "text": [
            "100%|██████████| 60/60 [00:52<00:00,  1.14it/s]\n",
            "100%|██████████| 15/15 [00:06<00:00,  2.27it/s]\n"
          ]
        },
        {
          "name": "stdout",
          "output_type": "stream",
          "text": [
            "Avg Valid Loss: 1.0124337673187256\n",
            "\n",
            "\n",
            "Epoch: 14\n"
          ]
        },
        {
          "name": "stderr",
          "output_type": "stream",
          "text": [
            "100%|██████████| 60/60 [00:52<00:00,  1.14it/s]\n",
            "100%|██████████| 15/15 [00:06<00:00,  2.25it/s]\n"
          ]
        },
        {
          "name": "stdout",
          "output_type": "stream",
          "text": [
            "Avg Valid Loss: 0.9438496232032776\n",
            "\n",
            "\n",
            "Epoch: 15\n"
          ]
        },
        {
          "name": "stderr",
          "output_type": "stream",
          "text": [
            "100%|██████████| 60/60 [00:52<00:00,  1.14it/s]\n",
            "100%|██████████| 15/15 [00:07<00:00,  2.10it/s]\n"
          ]
        },
        {
          "name": "stdout",
          "output_type": "stream",
          "text": [
            "Avg Valid Loss: 0.9374937415122986\n",
            "\n",
            "\n",
            "Epoch: 16\n"
          ]
        },
        {
          "name": "stderr",
          "output_type": "stream",
          "text": [
            "100%|██████████| 60/60 [00:52<00:00,  1.14it/s]\n",
            "100%|██████████| 15/15 [00:06<00:00,  2.24it/s]\n"
          ]
        },
        {
          "name": "stdout",
          "output_type": "stream",
          "text": [
            "Avg Valid Loss: 0.9328117370605469\n",
            "\n",
            "\n",
            "Epoch: 17\n"
          ]
        },
        {
          "name": "stderr",
          "output_type": "stream",
          "text": [
            "100%|██████████| 60/60 [00:52<00:00,  1.14it/s]\n",
            "100%|██████████| 15/15 [00:06<00:00,  2.27it/s]\n"
          ]
        },
        {
          "name": "stdout",
          "output_type": "stream",
          "text": [
            "Avg Valid Loss: 0.9823705554008484\n",
            "\n",
            "\n",
            "Epoch: 18\n"
          ]
        },
        {
          "name": "stderr",
          "output_type": "stream",
          "text": [
            "100%|██████████| 60/60 [00:52<00:00,  1.14it/s]\n",
            "100%|██████████| 15/15 [00:06<00:00,  2.27it/s]\n"
          ]
        },
        {
          "name": "stdout",
          "output_type": "stream",
          "text": [
            "Avg Valid Loss: 0.9146676659584045\n",
            "\n",
            "\n",
            "Epoch: 19\n"
          ]
        },
        {
          "name": "stderr",
          "output_type": "stream",
          "text": [
            "100%|██████████| 60/60 [00:52<00:00,  1.14it/s]\n",
            "100%|██████████| 15/15 [00:06<00:00,  2.22it/s]\n"
          ]
        },
        {
          "name": "stdout",
          "output_type": "stream",
          "text": [
            "Avg Valid Loss: 0.9595034718513489\n",
            "\n",
            "\n",
            "Epoch: 20\n"
          ]
        },
        {
          "name": "stderr",
          "output_type": "stream",
          "text": [
            "100%|██████████| 60/60 [00:52<00:00,  1.14it/s]\n",
            "100%|██████████| 15/15 [00:06<00:00,  2.30it/s]\n"
          ]
        },
        {
          "name": "stdout",
          "output_type": "stream",
          "text": [
            "Avg Valid Loss: 0.9191180467605591\n",
            "\n",
            "\n",
            "Epoch: 21\n"
          ]
        },
        {
          "name": "stderr",
          "output_type": "stream",
          "text": [
            "100%|██████████| 60/60 [00:52<00:00,  1.14it/s]\n",
            "100%|██████████| 15/15 [00:06<00:00,  2.24it/s]\n"
          ]
        },
        {
          "name": "stdout",
          "output_type": "stream",
          "text": [
            "Avg Valid Loss: 0.951887309551239\n",
            "\n",
            "\n",
            "Epoch: 22\n"
          ]
        },
        {
          "name": "stderr",
          "output_type": "stream",
          "text": [
            "100%|██████████| 60/60 [00:52<00:00,  1.14it/s]\n",
            "100%|██████████| 15/15 [00:06<00:00,  2.23it/s]\n"
          ]
        },
        {
          "name": "stdout",
          "output_type": "stream",
          "text": [
            "Avg Valid Loss: 0.9387128949165344\n",
            "\n",
            "\n",
            "Epoch: 23\n"
          ]
        },
        {
          "name": "stderr",
          "output_type": "stream",
          "text": [
            "100%|██████████| 60/60 [00:52<00:00,  1.14it/s]\n",
            "100%|██████████| 15/15 [00:06<00:00,  2.26it/s]\n"
          ]
        },
        {
          "name": "stdout",
          "output_type": "stream",
          "text": [
            "Avg Valid Loss: 0.8978523015975952\n",
            "\n",
            "\n",
            "Epoch: 24\n"
          ]
        },
        {
          "name": "stderr",
          "output_type": "stream",
          "text": [
            "100%|██████████| 60/60 [00:52<00:00,  1.14it/s]\n",
            "100%|██████████| 15/15 [00:06<00:00,  2.26it/s]"
          ]
        },
        {
          "name": "stdout",
          "output_type": "stream",
          "text": [
            "Avg Valid Loss: 0.9118745923042297\n",
            "\n",
            "\n"
          ]
        },
        {
          "name": "stderr",
          "output_type": "stream",
          "text": [
            "\n"
          ]
        },
        {
          "data": {
            "image/png": "[encoded data removed]",
            "text/plain": [
              "<Figure size 432x288 with 2 Axes>"
            ]
          },
          "metadata": {
            "needs_background": "light"
          },
          "output_type": "display_data"
        },
        {
          "name": "stdout",
          "output_type": "stream",
          "text": [
            "              precision    recall  f1-score   support\n",
            "\n",
            "    Belalang       0.87      0.76      0.81        17\n",
            "       Sehat       0.86      0.69      0.77        26\n",
            "        Ulat       0.94      0.96      0.95        51\n",
            "      Wereng       0.83      0.94      0.88        47\n",
            "\n",
            "    accuracy                           0.88       141\n",
            "   macro avg       0.87      0.84      0.85       141\n",
            "weighted avg       0.88      0.88      0.88       141\n",
            "\n",
            "[1.0266690910259881, 1.0586435804367065, 1.0540054761767386, 1.0381516073942185, 1.0471984168489774]\n",
            "[1.0967375063896179, 0.9716869044303894, 1.0251536083221435, 0.971539490222931, 1.0588821482658386]\n"
          ]
        }
      ],
      "source": [
        "from sklearn.model_selection import KFold\n",
        "\n",
        "train_dataset = CCDataset(mode='train', augmentation=transform)\n",
        "valid_dataset = CCDataset(mode='valid', augmentation=transform)\n",
        "dataset = ConcatDataset([train_dataset, valid_dataset])\n",
        "k_folds = 5\n",
        "\n",
        "kfold = KFold(n_splits=k_folds, shuffle=True)\n",
        "avg_train_loss = []\n",
        "avg_val_loss = []\n",
        "for fold, (train_ids, test_ids) in enumerate(kfold.split(dataset)):\n",
        "  print(f'FOLD {fold}')\n",
        "  print('--------------------------------')\n",
        "  train_subsampler = torch.utils.data.SubsetRandomSampler(train_ids)\n",
        "  val_subsampler = torch.utils.data.SubsetRandomSampler(test_ids)\n",
        "  train_loader = DataLoader(dataset=dataset,\n",
        "                                batch_size=BATCH_SIZE,\n",
        "                                shuffle=False,\n",
        "                                num_workers=4,\n",
        "                                pin_memory=PIN_MEMORY,\n",
        "                                collate_fn=collate_fn,\n",
        "                                sampler=train_subsampler)\n",
        "\n",
        "\n",
        "  valid_loader = DataLoader(dataset=dataset,\n",
        "                                batch_size=BATCH_SIZE,\n",
        "                                shuffle=False,\n",
        "                                pin_memory=PIN_MEMORY,\n",
        "                                collate_fn=collate_fn,\n",
        "                                sampler=val_subsampler)\n",
        "  model = get_model()\n",
        "  params = [p for p in model.parameters() if p.requires_grad]\n",
        "  optimizer = torch.optim.SGD(params, lr=0.01, momentum=0.9, nesterov=True, weight_decay=1e-4)\n",
        "  \n",
        "  model.train()\n",
        "  train_error =[]\n",
        "  val_error = []\n",
        "  num_epochs = 25\n",
        "  for epoch in range(num_epochs):\n",
        "                  print(f\"Epoch: {epoch}\")\n",
        "                  train = train_one_epoch(train_loader, model, optimizer, DEVICE)\n",
        "                  vloss= validate(valid_loader, model, optimizer, DEVICE, epoch)\n",
        "                  train_error.append(train)\n",
        "                  val_error.append(vloss.tolist())\n",
        "\n",
        "  import os\n",
        "  from os import listdir\n",
        "\n",
        "  hasil_pred = []\n",
        "  \n",
        "  # MEMANGGIL GAMBAR\n",
        "  folder_dir = \"/content/drive/MyDrive/Ta/Dataset/valid/\"\n",
        "  for images in os.listdir(folder_dir):\n",
        "  \n",
        "      # cek format jpg saja\n",
        "      if (images.endswith(\".jpg\")):\n",
        "          # print(images)\n",
        "        cap = cv2.VideoCapture(folder_dir+images)\n",
        "        model.train(False)\n",
        "\n",
        "        if (cap.isOpened()== False): \n",
        "            print(\"Error opening video stream or file\")\n",
        "\n",
        "        images = []   \n",
        "        while(cap.isOpened()):\n",
        "            ret, frame = cap.read()\n",
        "            if ret == True:\n",
        "                result_frame, predict = predict_single_frame(frame)\n",
        "                images.append(result_frame)\n",
        "                hasil_pred.append (predict)\n",
        "            else: \n",
        "                break\n",
        "\n",
        "        cap.release()\n",
        "\n",
        "\n",
        "  #  menampilkan hasil evaluasi dari data training\n",
        "  df_hasil_pred = pd.DataFrame(hasil_pred)\n",
        "  df_hasil_pred [1] = pd.DataFrame(test_label)\n",
        "  actual = df_hasil_pred[0]\n",
        "  predicted = df_hasil_pred[1]\n",
        "  confusion_matrix = metrics.confusion_matrix(actual, predicted)\n",
        "  cm_display = metrics.ConfusionMatrixDisplay(confusion_matrix = confusion_matrix, display_labels = ['Belalang', 'Sehat', 'Ulat', 'Wereng'])\n",
        "  cm_display.plot()\n",
        "  plt.show()\n",
        "  print(classification_report(actual, predicted, target_names=['Belalang', 'Sehat', 'Ulat', 'Wereng']))\n",
        "  avg_train_loss.append(sum(train_error) / len(train_error))\n",
        "  avg_val_loss.append(sum(val_error) / len(val_error))\n",
        "  print(avg_train_loss)\n",
        "  print(avg_val_loss)\n",
        "\n",
        " \n"
      ]
    },
    {
      "cell_type": "markdown",
      "metadata": {
        "id": "W75fzEDYx6R4"
      },
      "source": [
        "**MENAMPILKAN SUB PLOAT LOSS TRAINING**"
      ]
    },
    {
      "cell_type": "code",
      "execution_count": null,
      "metadata": {
        "colab": {
          "base_uri": "https://localhost:8080/",
          "height": 295
        },
        "id": "JGJPqRa5b1Qm",
        "outputId": "a41b53c4-c8f2-4de9-ec7a-64fa8b75f177"
      },
      "outputs": [
        {
          "data": {
            "image/png": "[encoded data removed]",
            "text/plain": [
              "<Figure size 432x288 with 1 Axes>"
            ]
          },
          "metadata": {
            "needs_background": "light"
          },
          "output_type": "display_data"
        }
      ],
      "source": [
        "index = np.arange(5)\n",
        "x_label = [0,1,2,3,4]\n",
        "bar_width = 0.35\n",
        "\n",
        "fig, ax = plt.subplots()\n",
        "train = ax.bar(index, avg_train_loss, bar_width,\n",
        "                label=\"Train Loss\")\n",
        "\n",
        "ax.set_xlabel('Fold')\n",
        "ax.set_ylabel('Loss')\n",
        "ax.set_title('Training  Loss')\n",
        "ax.set_xticks(index + bar_width / 2)\n",
        "ax.set_xticklabels(x_label)\n",
        "ax.legend()\n",
        "\n",
        "plt.show()"
      ]
    },
    {
      "cell_type": "markdown",
      "metadata": {
        "id": "BeBfT7TaxwSg"
      },
      "source": [
        "**MENAMPILKAN GAMBAR HASIL PREDIKSI**"
      ]
    },
    {
      "cell_type": "code",
      "execution_count": null,
      "metadata": {
        "id": "O8wKXtnXPpRZ"
      },
      "outputs": [],
      "source": [
        "from google.colab.patches import cv2_imshow\n",
        "cv2_imshow(result_frame)"
      ]
    }
  ],
  "metadata": {
    "accelerator": "GPU",
    "colab": {
      "provenance": []
    },
    "gpuClass": "standard",
    "kernelspec": {
      "display_name": "Python 3",
      "name": "python3"
    },
    "language_info": {
      "name": "python"
    },
    "widgets": {
      "application/vnd.jupyter.widget-state+json": {
        "1410f0896ee848c39aa82b62bb2b983a": {
          "model_module": "@jupyter-widgets/controls",
          "model_module_version": "1.5.0",
          "model_name": "FloatProgressModel",
          "state": {
            "_dom_classes": [],
            "_model_module": "@jupyter-widgets/controls",
            "_model_module_version": "1.5.0",
            "_model_name": "FloatProgressModel",
            "_view_count": null,
            "_view_module": "@jupyter-widgets/controls",
            "_view_module_version": "1.5.0",
            "_view_name": "ProgressView",
            "bar_style": "success",
            "description": "",
            "description_tooltip": null,
            "layout": "IPY_MODEL_76158185f4e648e48641d0ac8a724f1b",
            "max": 178090079,
            "min": 0,
            "orientation": "horizontal",
            "style": "IPY_MODEL_59d0dbec26524d8e97e3380c28c43c49",
            "value": 178090079
          }
        },
        "1c4c8993f98d4485ab542aec8e9beef1": {
          "model_module": "@jupyter-widgets/controls",
          "model_module_version": "1.5.0",
          "model_name": "HTMLModel",
          "state": {
            "_dom_classes": [],
            "_model_module": "@jupyter-widgets/controls",
            "_model_module_version": "1.5.0",
            "_model_name": "HTMLModel",
            "_view_count": null,
            "_view_module": "@jupyter-widgets/controls",
            "_view_module_version": "1.5.0",
            "_view_name": "HTMLView",
            "description": "",
            "description_tooltip": null,
            "layout": "IPY_MODEL_559e7a67d5f543b982ac5e4dfbf84629",
            "placeholder": "​",
            "style": "IPY_MODEL_965d716b285548639c21399aa5f08523",
            "value": "100%"
          }
        },
        "2237eadb6cad49c2a3ac7f8ee37eb119": {
          "model_module": "@jupyter-widgets/controls",
          "model_module_version": "1.5.0",
          "model_name": "HTMLModel",
          "state": {
            "_dom_classes": [],
            "_model_module": "@jupyter-widgets/controls",
            "_model_module_version": "1.5.0",
            "_model_name": "HTMLModel",
            "_view_count": null,
            "_view_module": "@jupyter-widgets/controls",
            "_view_module_version": "1.5.0",
            "_view_name": "HTMLView",
            "description": "",
            "description_tooltip": null,
            "layout": "IPY_MODEL_cb6858f4b73e4d94b2871a5758e74470",
            "placeholder": "​",
            "style": "IPY_MODEL_eec47aa0cd824b0eaa2143ee022ade22",
            "value": " 170M/170M [00:07&lt;00:00, 19.9MB/s]"
          }
        },
        "559e7a67d5f543b982ac5e4dfbf84629": {
          "model_module": "@jupyter-widgets/base",
          "model_module_version": "1.2.0",
          "model_name": "LayoutModel",
          "state": {
            "_model_module": "@jupyter-widgets/base",
            "_model_module_version": "1.2.0",
            "_model_name": "LayoutModel",
            "_view_count": null,
            "_view_module": "@jupyter-widgets/base",
            "_view_module_version": "1.2.0",
            "_view_name": "LayoutView",
            "align_content": null,
            "align_items": null,
            "align_self": null,
            "border": null,
            "bottom": null,
            "display": null,
            "flex": null,
            "flex_flow": null,
            "grid_area": null,
            "grid_auto_columns": null,
            "grid_auto_flow": null,
            "grid_auto_rows": null,
            "grid_column": null,
            "grid_gap": null,
            "grid_row": null,
            "grid_template_areas": null,
            "grid_template_columns": null,
            "grid_template_rows": null,
            "height": null,
            "justify_content": null,
            "justify_items": null,
            "left": null,
            "margin": null,
            "max_height": null,
            "max_width": null,
            "min_height": null,
            "min_width": null,
            "object_fit": null,
            "object_position": null,
            "order": null,
            "overflow": null,
            "overflow_x": null,
            "overflow_y": null,
            "padding": null,
            "right": null,
            "top": null,
            "visibility": null,
            "width": null
          }
        },
        "59d0dbec26524d8e97e3380c28c43c49": {
          "model_module": "@jupyter-widgets/controls",
          "model_module_version": "1.5.0",
          "model_name": "ProgressStyleModel",
          "state": {
            "_model_module": "@jupyter-widgets/controls",
            "_model_module_version": "1.5.0",
            "_model_name": "ProgressStyleModel",
            "_view_count": null,
            "_view_module": "@jupyter-widgets/base",
            "_view_module_version": "1.2.0",
            "_view_name": "StyleView",
            "bar_color": null,
            "description_width": ""
          }
        },
        "6ade56794e524c0a81c3db119db93959": {
          "model_module": "@jupyter-widgets/controls",
          "model_module_version": "1.5.0",
          "model_name": "HBoxModel",
          "state": {
            "_dom_classes": [],
            "_model_module": "@jupyter-widgets/controls",
            "_model_module_version": "1.5.0",
            "_model_name": "HBoxModel",
            "_view_count": null,
            "_view_module": "@jupyter-widgets/controls",
            "_view_module_version": "1.5.0",
            "_view_name": "HBoxView",
            "box_style": "",
            "children": [
              "IPY_MODEL_1c4c8993f98d4485ab542aec8e9beef1",
              "IPY_MODEL_1410f0896ee848c39aa82b62bb2b983a",
              "IPY_MODEL_2237eadb6cad49c2a3ac7f8ee37eb119"
            ],
            "layout": "IPY_MODEL_84916205d702430bbe5f31349fbea7ba"
          }
        },
        "76158185f4e648e48641d0ac8a724f1b": {
          "model_module": "@jupyter-widgets/base",
          "model_module_version": "1.2.0",
          "model_name": "LayoutModel",
          "state": {
            "_model_module": "@jupyter-widgets/base",
            "_model_module_version": "1.2.0",
            "_model_name": "LayoutModel",
            "_view_count": null,
            "_view_module": "@jupyter-widgets/base",
            "_view_module_version": "1.2.0",
            "_view_name": "LayoutView",
            "align_content": null,
            "align_items": null,
            "align_self": null,
            "border": null,
            "bottom": null,
            "display": null,
            "flex": null,
            "flex_flow": null,
            "grid_area": null,
            "grid_auto_columns": null,
            "grid_auto_flow": null,
            "grid_auto_rows": null,
            "grid_column": null,
            "grid_gap": null,
            "grid_row": null,
            "grid_template_areas": null,
            "grid_template_columns": null,
            "grid_template_rows": null,
            "height": null,
            "justify_content": null,
            "justify_items": null,
            "left": null,
            "margin": null,
            "max_height": null,
            "max_width": null,
            "min_height": null,
            "min_width": null,
            "object_fit": null,
            "object_position": null,
            "order": null,
            "overflow": null,
            "overflow_x": null,
            "overflow_y": null,
            "padding": null,
            "right": null,
            "top": null,
            "visibility": null,
            "width": null
          }
        },
        "84916205d702430bbe5f31349fbea7ba": {
          "model_module": "@jupyter-widgets/base",
          "model_module_version": "1.2.0",
          "model_name": "LayoutModel",
          "state": {
            "_model_module": "@jupyter-widgets/base",
            "_model_module_version": "1.2.0",
            "_model_name": "LayoutModel",
            "_view_count": null,
            "_view_module": "@jupyter-widgets/base",
            "_view_module_version": "1.2.0",
            "_view_name": "LayoutView",
            "align_content": null,
            "align_items": null,
            "align_self": null,
            "border": null,
            "bottom": null,
            "display": null,
            "flex": null,
            "flex_flow": null,
            "grid_area": null,
            "grid_auto_columns": null,
            "grid_auto_flow": null,
            "grid_auto_rows": null,
            "grid_column": null,
            "grid_gap": null,
            "grid_row": null,
            "grid_template_areas": null,
            "grid_template_columns": null,
            "grid_template_rows": null,
            "height": null,
            "justify_content": null,
            "justify_items": null,
            "left": null,
            "margin": null,
            "max_height": null,
            "max_width": null,
            "min_height": null,
            "min_width": null,
            "object_fit": null,
            "object_position": null,
            "order": null,
            "overflow": null,
            "overflow_x": null,
            "overflow_y": null,
            "padding": null,
            "right": null,
            "top": null,
            "visibility": null,
            "width": null
          }
        },
        "965d716b285548639c21399aa5f08523": {
          "model_module": "@jupyter-widgets/controls",
          "model_module_version": "1.5.0",
          "model_name": "DescriptionStyleModel",
          "state": {
            "_model_module": "@jupyter-widgets/controls",
            "_model_module_version": "1.5.0",
            "_model_name": "DescriptionStyleModel",
            "_view_count": null,
            "_view_module": "@jupyter-widgets/base",
            "_view_module_version": "1.2.0",
            "_view_name": "StyleView",
            "description_width": ""
          }
        },
        "cb6858f4b73e4d94b2871a5758e74470": {
          "model_module": "@jupyter-widgets/base",
          "model_module_version": "1.2.0",
          "model_name": "LayoutModel",
          "state": {
            "_model_module": "@jupyter-widgets/base",
            "_model_module_version": "1.2.0",
            "_model_name": "LayoutModel",
            "_view_count": null,
            "_view_module": "@jupyter-widgets/base",
            "_view_module_version": "1.2.0",
            "_view_name": "LayoutView",
            "align_content": null,
            "align_items": null,
            "align_self": null,
            "border": null,
            "bottom": null,
            "display": null,
            "flex": null,
            "flex_flow": null,
            "grid_area": null,
            "grid_auto_columns": null,
            "grid_auto_flow": null,
            "grid_auto_rows": null,
            "grid_column": null,
            "grid_gap": null,
            "grid_row": null,
            "grid_template_areas": null,
            "grid_template_columns": null,
            "grid_template_rows": null,
            "height": null,
            "justify_content": null,
            "justify_items": null,
            "left": null,
            "margin": null,
            "max_height": null,
            "max_width": null,
            "min_height": null,
            "min_width": null,
            "object_fit": null,
            "object_position": null,
            "order": null,
            "overflow": null,
            "overflow_x": null,
            "overflow_y": null,
            "padding": null,
            "right": null,
            "top": null,
            "visibility": null,
            "width": null
          }
        },
        "eec47aa0cd824b0eaa2143ee022ade22": {
          "model_module": "@jupyter-widgets/controls",
          "model_module_version": "1.5.0",
          "model_name": "DescriptionStyleModel",
          "state": {
            "_model_module": "@jupyter-widgets/controls",
            "_model_module_version": "1.5.0",
            "_model_name": "DescriptionStyleModel",
            "_view_count": null,
            "_view_module": "@jupyter-widgets/base",
            "_view_module_version": "1.2.0",
            "_view_name": "StyleView",
            "description_width": ""
          }
        }
      }
    }
  },
  "nbformat": 4,
  "nbformat_minor": 0
}
